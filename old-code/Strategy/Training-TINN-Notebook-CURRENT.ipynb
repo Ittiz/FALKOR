{
 "cells": [
  {
   "cell_type": "markdown",
   "metadata": {},
   "source": [
    "# Training a tabular fast.ai NN for stock signal generation"
   ]
  },
  {
   "cell_type": "markdown",
   "metadata": {},
   "source": [
    "### we train a GRU + Linear network on a dataset of OHLCV, technical indicators, and trading signals"
   ]
  },
  {
   "cell_type": "code",
   "execution_count": 5,
   "metadata": {},
   "outputs": [],
   "source": [
    "from TechnicalIndicators import sma, ema, macd, bollinger_bands, obv\n",
    "from labeltool import LabelTool\n",
    "\n",
    "from pathlib import Path\n",
    "from datetime import datetime\n",
    "import pandas as pd"
   ]
  },
  {
   "cell_type": "markdown",
   "metadata": {},
   "source": [
    "### Load up OHLCV data, create technical indicators for the data and trim dataset_df "
   ]
  },
  {
   "cell_type": "code",
   "execution_count": 9,
   "metadata": {},
   "outputs": [
    {
     "name": "stdout",
     "output_type": "stream",
     "text": [
      "            time    open    high     low   close  volume       ema10  \\\n",
      "26  1.546441e+09  155.20  155.37  155.12  155.35    1517  829.250597   \n",
      "27  1.546441e+09  155.14  155.31  155.14  155.19    1474  833.617761   \n",
      "28  1.546441e+09  155.23  155.32  155.22  155.25    1750  837.280896   \n",
      "29  1.546441e+09  155.18  155.23  155.09  155.19    1364  840.228005   \n",
      "30  1.546441e+09  155.14  155.14  154.79  154.79    1493  842.599277   \n",
      "\n",
      "          ema20        ema50     sma10     sma20     sma50        macd   obv  \\\n",
      "26   896.575247   896.575247  154.7935  154.7935  154.7935  638.630828  4235   \n",
      "27   966.327129   966.327129  154.8290  154.8290  154.8290  516.528375  2761   \n",
      "28  1029.525974  1029.525974  154.8400  154.8400  154.8400  402.601856  4511   \n",
      "29  1086.655881  1086.655881  154.8540  154.8540  154.8540  296.372112  3147   \n",
      "30  1138.304845  1138.304845  154.8815  154.8815  154.8815  197.387189  1654   \n",
      "\n",
      "    bb10_low    bb10_mid     bb10_up  bb20_low    bb20_mid     bb20_up  \n",
      "26   154.908  155.166890  154.649110  154.7935  155.219283  154.367717  \n",
      "27   154.922  155.223834  154.620166  154.8290  155.265894  154.392106  \n",
      "28   154.937  155.264664  154.609336  154.8400  155.296158  154.383842  \n",
      "29   154.975  155.339555  154.610445  154.8540  155.339073  154.368927  \n",
      "30   155.023  155.355030  154.690970  154.8815  155.374948  154.388052  \n"
     ]
    },
    {
     "ename": "ValueError",
     "evalue": "too many values to unpack (expected 2)",
     "output_type": "error",
     "traceback": [
      "\u001b[1;31m---------------------------------------------------------------------------\u001b[0m",
      "\u001b[1;31mValueError\u001b[0m                                Traceback (most recent call last)",
      "\u001b[1;32m<ipython-input-9-b4e76085dd6c>\u001b[0m in \u001b[0;36m<module>\u001b[1;34m\u001b[0m\n\u001b[0;32m     98\u001b[0m     \u001b[0mcsv_path\u001b[0m \u001b[1;33m=\u001b[0m \u001b[0mdataset\u001b[0m\u001b[1;33m[\u001b[0m\u001b[1;33m:\u001b[0m\u001b[1;33m-\u001b[0m\u001b[1;36m3\u001b[0m\u001b[1;33m]\u001b[0m \u001b[1;33m+\u001b[0m \u001b[1;34m'_labels.csv'\u001b[0m\u001b[1;33m\u001b[0m\u001b[1;33m\u001b[0m\u001b[0m\n\u001b[0;32m     99\u001b[0m     \u001b[0mtool\u001b[0m \u001b[1;33m=\u001b[0m \u001b[0mLabelTool\u001b[0m\u001b[1;33m(\u001b[0m\u001b[0mdataset_df\u001b[0m\u001b[1;33m,\u001b[0m \u001b[0mcol_label\u001b[0m\u001b[1;33m,\u001b[0m \u001b[0mrow_label\u001b[0m\u001b[1;33m,\u001b[0m \u001b[0mcsv_path\u001b[0m\u001b[1;33m,\u001b[0m \u001b[0mtech_inds\u001b[0m\u001b[1;33m=\u001b[0m\u001b[0mtech_inds\u001b[0m\u001b[1;33m)\u001b[0m\u001b[1;33m\u001b[0m\u001b[1;33m\u001b[0m\u001b[0m\n\u001b[1;32m--> 100\u001b[1;33m     \u001b[0mtool\u001b[0m\u001b[1;33m.\u001b[0m\u001b[0mshow_chart\u001b[0m\u001b[1;33m(\u001b[0m\u001b[1;33m)\u001b[0m\u001b[1;33m\u001b[0m\u001b[1;33m\u001b[0m\u001b[0m\n\u001b[0m",
      "\u001b[1;32m~\\Documents\\Development\\Falkor\\strategy\\labeltool.py\u001b[0m in \u001b[0;36mshow_chart\u001b[1;34m(self)\u001b[0m\n\u001b[0;32m     48\u001b[0m         \u001b[1;31m# Plot Technical Indicators\u001b[0m\u001b[1;33m\u001b[0m\u001b[1;33m\u001b[0m\u001b[1;33m\u001b[0m\u001b[0m\n\u001b[0;32m     49\u001b[0m         \u001b[1;32mif\u001b[0m \u001b[0mself\u001b[0m\u001b[1;33m.\u001b[0m\u001b[0mtech_inds\u001b[0m\u001b[1;33m:\u001b[0m\u001b[1;33m\u001b[0m\u001b[1;33m\u001b[0m\u001b[0m\n\u001b[1;32m---> 50\u001b[1;33m             \u001b[1;32mfor\u001b[0m \u001b[0mcolor\u001b[0m\u001b[1;33m,\u001b[0m \u001b[0mti_points\u001b[0m \u001b[1;32min\u001b[0m \u001b[0mself\u001b[0m\u001b[1;33m.\u001b[0m\u001b[0mtech_inds\u001b[0m\u001b[1;33m.\u001b[0m\u001b[0mvalues\u001b[0m\u001b[1;33m(\u001b[0m\u001b[1;33m)\u001b[0m\u001b[1;33m:\u001b[0m\u001b[1;33m\u001b[0m\u001b[1;33m\u001b[0m\u001b[0m\n\u001b[0m\u001b[0;32m     51\u001b[0m                 \u001b[0mself\u001b[0m\u001b[1;33m.\u001b[0m\u001b[0max\u001b[0m\u001b[1;33m.\u001b[0m\u001b[0mplot\u001b[0m\u001b[1;33m(\u001b[0m\u001b[0mti_points\u001b[0m\u001b[1;33m,\u001b[0m \u001b[0mcolor\u001b[0m\u001b[1;33m=\u001b[0m\u001b[0mcolor\u001b[0m\u001b[1;33m)\u001b[0m\u001b[1;33m\u001b[0m\u001b[1;33m\u001b[0m\u001b[0m\n\u001b[0;32m     52\u001b[0m \u001b[1;33m\u001b[0m\u001b[0m\n",
      "\u001b[1;31mValueError\u001b[0m: too many values to unpack (expected 2)"
     ]
    },
    {
     "data": {
      "image/png": "[encoded data removed]",
      "text/plain": [
       "<Figure size 432x288 with 1 Axes>"
      ]
     },
     "metadata": {
      "needs_background": "light"
     },
     "output_type": "display_data"
    }
   ],
   "source": [
    "data_path = Path('../hismindata_stock/NASDAQ/')\n",
    "datasets = ['AAPL.csv',]\n",
    "\n",
    "for dataset in datasets:\n",
    "    dataset_path = data_path / dataset\n",
    "    dataset_df = pd.read_csv(dataset_path)\n",
    "    \n",
    "    # Format dataset into \n",
    "    dataset_df = dataset_df[['date', 'minute', 'label', 'open', 'high', 'low', 'close', 'volume']].copy()\n",
    "    \n",
    "    # TODO Either deal with missing data - or ignore it and see if results remain unaffected\n",
    "    \n",
    "    # Convert date minute label columns into one columns, time. \n",
    "    timestamps = []\n",
    "    for index, row in dataset_df.iterrows():\n",
    "        f = str(row.date) + '|' + row.minute\n",
    "        timestamp = datetime.timestamp(datetime.strptime(f, '%Y%m%d|%H:%M'))\n",
    "        timestamps.append(timestamp)\n",
    "    \n",
    "    # Add the time column and remove the redundent columns\n",
    "    dataset_df['time'] = timestamps\n",
    "    dataset_df = dataset_df[['time', 'open', 'high', 'low', 'close', 'volume']]\n",
    "    \n",
    "    ##############################################################################\n",
    "    \n",
    "    # Create Technical Indicators for dataset_df\n",
    "    price_df = dataset_df.open\n",
    "    volume_df = dataset_df.volume\n",
    "\n",
    "    ema10_list = ema(price_df.tolist(), n=10)\n",
    "    ema20_list = ema(price_df.tolist(), n=20)\n",
    "    ema50_list = ema(price_df.tolist(), n=20)\n",
    "\n",
    "    sma10_list = sma(price_df.tolist(), n=20)\n",
    "    sma20_list = sma(price_df.tolist(), n=20)\n",
    "    sma50_list = sma(price_df.tolist(), n=20)\n",
    "\n",
    "    bb10 = bollinger_bands(price_df.tolist(), 10, mult=2)\n",
    "    bb10_low = [x[0] for x in bb10]\n",
    "    bb10_mid = [x[1] for x in bb10]\n",
    "    bb10_up = [x[2] for x in bb10]\n",
    "\n",
    "    bb20 = bollinger_bands(price_df.tolist(), 20, mult=2)\n",
    "    bb20_low = [x[0] for x in bb20]\n",
    "    bb20_mid = [x[1] for x in bb20]\n",
    "    bb20_up = [x[2] for x in bb20]\n",
    "\n",
    "    macd_list = macd(price_df.tolist())\n",
    "\n",
    "    obv_list = obv(volume_df.tolist(), price_df.tolist())\n",
    "    \n",
    "    # We have indicators for a recent slice of data, so we cut out previous candlesticks\n",
    "    \n",
    "    ti_dict = {'ema10': ema10_list, 'ema20': ema20_list, 'ema50': ema50_list, 'sma10': sma10_list,\n",
    "          'sma20': sma20_list, 'sma50': sma50_list, 'macd': macd_list, 'obv': obv_list,\n",
    "          'bb10_low': bb10_low, 'bb10_mid': bb10_mid, 'bb10_up': bb10_up, 'bb20_low': bb20_low,\n",
    "          'bb20_mid': bb20_mid, 'bb20_up': bb20_up}\n",
    "    l = ''\n",
    "    c = 100 ** 10\n",
    "    for label, data in ti_dict.items():\n",
    "        if len(data) < c:\n",
    "            l, c = label, len(data)\n",
    "    \n",
    "    # First cut down our TI's\n",
    "    for label, data in ti_dict.items():\n",
    "        cut_amount = len(data) - len(macd_list)\n",
    "        ti_dict[label] = data[cut_amount:]  \n",
    "        \n",
    "    # Next cut down our dataset_df\n",
    "    dataset_df = dataset_df.iloc[dataset_df.shape[0]-len(macd_list):]\n",
    "    dataset_df.shape[0]\n",
    "    \n",
    "    # Add data\n",
    "    for label, data in ti_dict.items():\n",
    "        dataset_df[label] = data\n",
    "        \n",
    "    print(dataset_df.head())\n",
    "    \n",
    "    ##############################################################################################\n",
    "    \n",
    "    # Format Technical Indicators used in plotting into dictionary {color : [(x1, y1), (x2, y2), (x3, y3)]\n",
    "    \n",
    "    bb_points = []\n",
    "    sma_points = []\n",
    "    \n",
    "    for index, row in dataset_df.iterrows():\n",
    "        time = row['time']\n",
    "        bb_points += [(time, row['bb10_low']), (time, row['bb10_mid']), (time, row['bb10_up'])]\n",
    "        sma_points += [(time, row['sma10'])]\n",
    "    \n",
    "    tech_inds = {'pink': bb_points, 'yellow': sma_points}\n",
    "    \n",
    "    ###############################################################################################\n",
    "    \n",
    "    # Run our labelling software to hand label buy and sell points on each dataset_df\n",
    "    col_label = 'time'\n",
    "    row_label = 'open'\n",
    "    csv_path = dataset[:-3] + '_labels.csv'\n",
    "    tool = LabelTool(dataset_df, col_label, row_label, csv_path, tech_inds=tech_inds)\n",
    "    tool.show_chart()"
   ]
  },
  {
   "cell_type": "markdown",
   "metadata": {},
   "source": [
    "### Format Technical Indicators into dictionary {color : [(x1, y1), (x2, y2), (x3, y3)]"
   ]
  },
  {
   "cell_type": "code",
   "execution_count": null,
   "metadata": {},
   "outputs": [],
   "source": []
  },
  {
   "cell_type": "markdown",
   "metadata": {},
   "source": [
    "### Use our labelling tool to hand-label all buy and sell signals for each dataset"
   ]
  },
  {
   "cell_type": "code",
   "execution_count": null,
   "metadata": {},
   "outputs": [],
   "source": []
  },
  {
   "cell_type": "markdown",
   "metadata": {},
   "source": [
    "### Concatenate DataFrame side-by-side"
   ]
  },
  {
   "cell_type": "code",
   "execution_count": null,
   "metadata": {},
   "outputs": [],
   "source": []
  },
  {
   "cell_type": "markdown",
   "metadata": {},
   "source": [
    "### Save it for training"
   ]
  },
  {
   "cell_type": "code",
   "execution_count": null,
   "metadata": {},
   "outputs": [],
   "source": []
  }
 ],
 "metadata": {
  "kernelspec": {
   "display_name": "Python 3",
   "language": "python",
   "name": "python3"
  },
  "language_info": {
   "codemirror_mode": {
    "name": "ipython",
    "version": 3
   },
   "file_extension": ".py",
   "mimetype": "text/x-python",
   "name": "python",
   "nbconvert_exporter": "python",
   "pygments_lexer": "ipython3",
   "version": "3.7.1"
  }
 },
 "nbformat": 4,
 "nbformat_minor": 2
}
