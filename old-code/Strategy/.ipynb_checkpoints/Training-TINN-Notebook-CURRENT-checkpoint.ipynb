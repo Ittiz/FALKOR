{
 "cells": [
  {
   "cell_type": "markdown",
   "metadata": {},
   "source": [
    "# Training a tabular fast.ai NN for stock signal generation"
   ]
  },
  {
   "cell_type": "markdown",
   "metadata": {},
   "source": [
    "### we train a GRU + Linear network on a dataset of OHLCV, technical indicators, and trading signals"
   ]
  },
  {
   "cell_type": "code",
   "execution_count": 4,
   "metadata": {},
   "outputs": [
    {
     "ename": "ModuleNotFoundError",
     "evalue": "No module named 'labeltool'",
     "output_type": "error",
     "traceback": [
      "\u001b[1;31m---------------------------------------------------------------------------\u001b[0m",
      "\u001b[1;31mModuleNotFoundError\u001b[0m                       Traceback (most recent call last)",
      "\u001b[1;32m<ipython-input-4-6b409f2f99b6>\u001b[0m in \u001b[0;36m<module>\u001b[1;34m\u001b[0m\n\u001b[0;32m      1\u001b[0m \u001b[1;32mfrom\u001b[0m \u001b[0mTechnicalIndicators\u001b[0m \u001b[1;32mimport\u001b[0m \u001b[0msma\u001b[0m\u001b[1;33m,\u001b[0m \u001b[0mema\u001b[0m\u001b[1;33m,\u001b[0m \u001b[0mmacd\u001b[0m\u001b[1;33m,\u001b[0m \u001b[0mbollinger_bands\u001b[0m\u001b[1;33m,\u001b[0m \u001b[0mobv\u001b[0m\u001b[1;33m\u001b[0m\u001b[1;33m\u001b[0m\u001b[0m\n\u001b[1;32m----> 2\u001b[1;33m \u001b[1;32mfrom\u001b[0m \u001b[0mlabeltool\u001b[0m \u001b[1;32mimport\u001b[0m \u001b[0mLabelTool\u001b[0m\u001b[1;33m\u001b[0m\u001b[1;33m\u001b[0m\u001b[0m\n\u001b[0m\u001b[0;32m      3\u001b[0m \u001b[1;33m\u001b[0m\u001b[0m\n\u001b[0;32m      4\u001b[0m \u001b[1;32mfrom\u001b[0m \u001b[0mpathlib\u001b[0m \u001b[1;32mimport\u001b[0m \u001b[0mPath\u001b[0m\u001b[1;33m\u001b[0m\u001b[1;33m\u001b[0m\u001b[0m\n\u001b[0;32m      5\u001b[0m \u001b[1;32mfrom\u001b[0m \u001b[0mdatetime\u001b[0m \u001b[1;32mimport\u001b[0m \u001b[0mdatetime\u001b[0m\u001b[1;33m\u001b[0m\u001b[1;33m\u001b[0m\u001b[0m\n",
      "\u001b[1;31mModuleNotFoundError\u001b[0m: No module named 'labeltool'"
     ]
    }
   ],
   "source": [
    "from TechnicalIndicators import sma, ema, macd, bollinger_bands, obv\n",
    "from labeltool.labeltool import LabelTool \n",
    "\n",
    "from pathlib import Path\n",
    "from datetime import datetime\n",
    "import pandas as pd"
   ]
  },
  {
   "cell_type": "markdown",
   "metadata": {},
   "source": [
    "### Load up OHLCV data, create technical indicators for the data and trim dataset_df "
   ]
  },
  {
   "cell_type": "code",
   "execution_count": 2,
   "metadata": {},
   "outputs": [
    {
     "ename": "NameError",
     "evalue": "name 'Path' is not defined",
     "output_type": "error",
     "traceback": [
      "\u001b[1;31m---------------------------------------------------------------------------\u001b[0m",
      "\u001b[1;31mNameError\u001b[0m                                 Traceback (most recent call last)",
      "\u001b[1;32m<ipython-input-2-0f86720138f5>\u001b[0m in \u001b[0;36m<module>\u001b[1;34m\u001b[0m\n\u001b[1;32m----> 1\u001b[1;33m \u001b[0mdata_path\u001b[0m \u001b[1;33m=\u001b[0m \u001b[0mPath\u001b[0m\u001b[1;33m(\u001b[0m\u001b[1;34m'../hismindata_stock/NASDAQ/'\u001b[0m\u001b[1;33m)\u001b[0m\u001b[1;33m\u001b[0m\u001b[1;33m\u001b[0m\u001b[0m\n\u001b[0m\u001b[0;32m      2\u001b[0m \u001b[0mdatasets\u001b[0m \u001b[1;33m=\u001b[0m \u001b[1;33m[\u001b[0m\u001b[1;34m'AAPL.csv'\u001b[0m\u001b[1;33m,\u001b[0m\u001b[1;33m]\u001b[0m\u001b[1;33m\u001b[0m\u001b[1;33m\u001b[0m\u001b[0m\n\u001b[0;32m      3\u001b[0m \u001b[1;33m\u001b[0m\u001b[0m\n\u001b[0;32m      4\u001b[0m \u001b[1;32mfor\u001b[0m \u001b[0mdataset\u001b[0m \u001b[1;32min\u001b[0m \u001b[0mdatasets\u001b[0m\u001b[1;33m:\u001b[0m\u001b[1;33m\u001b[0m\u001b[1;33m\u001b[0m\u001b[0m\n\u001b[0;32m      5\u001b[0m     \u001b[0mdataset_path\u001b[0m \u001b[1;33m=\u001b[0m \u001b[0mdata_path\u001b[0m \u001b[1;33m/\u001b[0m \u001b[0mdataset\u001b[0m\u001b[1;33m\u001b[0m\u001b[1;33m\u001b[0m\u001b[0m\n",
      "\u001b[1;31mNameError\u001b[0m: name 'Path' is not defined"
     ]
    }
   ],
   "source": [
    "data_path = Path('../hismindata_stock/NASDAQ/')\n",
    "datasets = ['AAPL.csv',]\n",
    "\n",
    "for dataset in datasets:\n",
    "    dataset_path = data_path / dataset\n",
    "    dataset_df = pd.read_csv(dataset_path)\n",
    "    \n",
    "    # Format dataset into \n",
    "    dataset_df = dataset_df[['date', 'minute', 'label', 'open', 'high', 'low', 'close', 'volume']].copy()\n",
    "    \n",
    "    # TODO Either deal with missing data - or ignore it and see if results remain unaffected\n",
    "    \n",
    "    # Convert date minute label columns into one columns, time. \n",
    "    timestamps = []\n",
    "    for index, row in dataset_df.iterrows():\n",
    "        f = str(row.date) + '|' + row.minute\n",
    "        timestamp = datetime.timestamp(datetime.strptime(f, '%Y%m%d|%H:%M'))\n",
    "        timestamps.append(timestamp)\n",
    "    \n",
    "    # Add the time column and remove the redundent columns\n",
    "    dataset_df['time'] = timestamps\n",
    "    dataset_df = dataset_df[['time', 'open', 'high', 'low', 'close', 'volume']]\n",
    "    \n",
    "    ##############################################################################\n",
    "    \n",
    "    # Create Technical Indicators for dataset_df\n",
    "    price_df = dataset_df.open\n",
    "    volume_df = dataset_df.volume\n",
    "\n",
    "    ema10_list = ema(price_df.tolist(), n=10)\n",
    "    ema20_list = ema(price_df.tolist(), n=20)\n",
    "    ema50_list = ema(price_df.tolist(), n=20)\n",
    "\n",
    "    sma10_list = sma(price_df.tolist(), n=20)\n",
    "    sma20_list = sma(price_df.tolist(), n=20)\n",
    "    sma50_list = sma(price_df.tolist(), n=20)\n",
    "\n",
    "    bb10 = bollinger_bands(price_df.tolist(), 10, mult=2)\n",
    "    bb10_low = [x[0] for x in bb10]\n",
    "    bb10_mid = [x[1] for x in bb10]\n",
    "    bb10_up = [x[2] for x in bb10]\n",
    "\n",
    "    bb20 = bollinger_bands(price_df.tolist(), 20, mult=2)\n",
    "    bb20_low = [x[0] for x in bb20]\n",
    "    bb20_mid = [x[1] for x in bb20]\n",
    "    bb20_up = [x[2] for x in bb20]\n",
    "\n",
    "    macd_list = macd(price_df.tolist())\n",
    "\n",
    "    obv_list = obv(volume_df.tolist(), price_df.tolist())\n",
    "    \n",
    "    # We have indicators for a recent slice of data, so we cut out previous candlesticks\n",
    "    \n",
    "    ti_dict = {'ema10': ema10_list, 'ema20': ema20_list, 'ema50': ema50_list, 'sma10': sma10_list,\n",
    "          'sma20': sma20_list, 'sma50': sma50_list, 'macd': macd_list, 'obv': obv_list,\n",
    "          'bb10_low': bb10_low, 'bb10_mid': bb10_mid, 'bb10_up': bb10_up, 'bb20_low': bb20_low,\n",
    "          'bb20_mid': bb20_mid, 'bb20_up': bb20_up}\n",
    "    l = ''\n",
    "    c = 100 ** 10\n",
    "    for label, data in ti_dict.items():\n",
    "        if len(data) < c:\n",
    "            l, c = label, len(data)\n",
    "    \n",
    "    # First cut down our TI's\n",
    "    for label, data in ti_dict.items():\n",
    "        cut_amount = len(data) - len(macd_list)\n",
    "        ti_dict[label] = data[cut_amount:]  \n",
    "        \n",
    "    # Next cut down our dataset_df\n",
    "    dataset_df = dataset_df.iloc[dataset_df.shape[0]-len(macd_list):]\n",
    "    dataset_df.shape[0]\n",
    "    \n",
    "    # Add data\n",
    "    for label, data in ti_dict.items():\n",
    "        dataset_df[label] = data\n",
    "        \n",
    "    print(dataset_df.head())\n",
    "    \n",
    "    ##############################################################################################\n",
    "    \n",
    "    # Format Technical Indicators used in plotting into dictionary {color : [(x1, y1), (x2, y2), (x3, y3)]\n",
    "    \n",
    "    bb_points = []\n",
    "    sma_points = []\n",
    "    \n",
    "    for index, row in dataset_df.iterrows():\n",
    "        time = row['time']\n",
    "        bb_points += [(time, row['bb10_low']), (time, row['bb10_mid']), (time, row['bb10_up'])]\n",
    "        sma_points += [(time, row['sma10'])]\n",
    "    \n",
    "    tech_inds = {'pink': bb_points, 'yellow': sma_points}\n",
    "    \n",
    "    ###############################################################################################\n",
    "    \n",
    "    # Run our labelling software to hand label buy and sell points on each dataset_df\n",
    "    \n",
    "    tool = LabelTool"
   ]
  },
  {
   "cell_type": "markdown",
   "metadata": {},
   "source": [
    "### Format Technical Indicators into dictionary {color : [(x1, y1), (x2, y2), (x3, y3)]"
   ]
  },
  {
   "cell_type": "code",
   "execution_count": null,
   "metadata": {},
   "outputs": [],
   "source": []
  },
  {
   "cell_type": "markdown",
   "metadata": {},
   "source": [
    "### Use our labelling tool to hand-label all buy and sell signals for each dataset"
   ]
  },
  {
   "cell_type": "code",
   "execution_count": null,
   "metadata": {},
   "outputs": [],
   "source": []
  },
  {
   "cell_type": "markdown",
   "metadata": {},
   "source": [
    "### Concatenate DataFrame side-by-side"
   ]
  },
  {
   "cell_type": "code",
   "execution_count": null,
   "metadata": {},
   "outputs": [],
   "source": []
  },
  {
   "cell_type": "markdown",
   "metadata": {},
   "source": [
    "### Save it for training"
   ]
  },
  {
   "cell_type": "code",
   "execution_count": null,
   "metadata": {},
   "outputs": [],
   "source": []
  }
 ],
 "metadata": {
  "kernelspec": {
   "display_name": "Python 3",
   "language": "python",
   "name": "python3"
  },
  "language_info": {
   "codemirror_mode": {
    "name": "ipython",
    "version": 3
   },
   "file_extension": ".py",
   "mimetype": "text/x-python",
   "name": "python",
   "nbconvert_exporter": "python",
   "pygments_lexer": "ipython3",
   "version": "3.7.1"
  }
 },
 "nbformat": 4,
 "nbformat_minor": 2
}
