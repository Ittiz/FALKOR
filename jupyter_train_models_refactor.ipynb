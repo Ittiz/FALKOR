{
 "cells": [
  {
   "cell_type": "code",
   "execution_count": 1,
   "metadata": {},
   "outputs": [],
   "source": [
    "from code.data_processing import *\n",
    "from code.apiwrappers import BinanceWrapper\n",
    "from code.charting import chart_to_image, chart_to_arr\n",
    "from PIL import Image\n",
    "from code.datasets import DFDataset, ChartImageDataset\n",
    "from torch.utils.data import *\n",
    "\n",
    "import torch\n",
    "\n",
    "import pandas as pd"
   ]
  },
  {
   "cell_type": "code",
   "execution_count": 5,
   "metadata": {},
   "outputs": [],
   "source": [
    "bw = BinanceWrapper('5lJ0uGit9PuUxHka3hBWhPmsi7dWyxEwvEntUZFKmm0xfNz3VjHWi5WSr5W1VBJV',\n",
    "                                                      'BFWVs8ko7Cd4sjdQ9amGJTnToGWy9TbQWIjeorSCj23FGiwFaknzkgLPcrgWrxsw')"
   ]
  },
  {
   "cell_type": "code",
   "execution_count": null,
   "metadata": {},
   "outputs": [],
   "source": [
    "# Fetch stats from Binance\n",
    "candles = bw.historical_candles(start_time='January 1 2019', end_time='June 1 2019', symbol='ETHBTC', interval='1m')"
   ]
  },
  {
   "cell_type": "code",
   "execution_count": 7,
   "metadata": {},
   "outputs": [],
   "source": [
    "# We'll save the candles to csv as requesting it from Binance takes a lot of time\n",
    "candles.to_csv('bitcoin1m-GOOD.csv', index=False)"
   ]
  },
  {
   "cell_type": "code",
   "execution_count": 4,
   "metadata": {},
   "outputs": [],
   "source": [
    "# Read from saved csv instead of fetching it all the time\n",
    "candles = pd.read_csv('bitcoin1m-GOOD.csv', engine='python')[150000:]"
   ]
  },
  {
   "cell_type": "code",
   "execution_count": 5,
   "metadata": {},
   "outputs": [
    {
     "name": "stdout",
     "output_type": "stream",
     "text": [
      "<bound method DataFrame.count of                 time      open     close      high       low   volume\n",
      "150000  1.555322e+12  0.032415  0.032401  0.032416  0.032394   77.326\n",
      "150001  1.555322e+12  0.032408  0.032400  0.032408  0.032384   58.623\n",
      "150002  1.555323e+12  0.032399  0.032399  0.032408  0.032393   32.676\n",
      "150003  1.555323e+12  0.032399  0.032402  0.032420  0.032397   46.297\n",
      "150004  1.555323e+12  0.032408  0.032404  0.032412  0.032399   45.754\n",
      "...              ...       ...       ...       ...       ...      ...\n",
      "216476  1.559347e+12  0.031249  0.031297  0.031298  0.031241  135.250\n",
      "216477  1.559347e+12  0.031288  0.031286  0.031291  0.031266   99.446\n",
      "216478  1.559347e+12  0.031280  0.031332  0.031339  0.031280  172.482\n",
      "216479  1.559347e+12  0.031338  0.031314  0.031343  0.031301   96.830\n",
      "216480  1.559347e+12  0.031314  0.031357  0.031366  0.031290  547.397\n",
      "\n",
      "[66481 rows x 6 columns]>\n"
     ]
    }
   ],
   "source": [
    "print(candles.count)"
   ]
  },
  {
   "cell_type": "code",
   "execution_count": 13,
   "metadata": {},
   "outputs": [],
   "source": [
    "candles = candles[30000:]"
   ]
  },
  {
   "cell_type": "code",
   "execution_count": 15,
   "metadata": {},
   "outputs": [],
   "source": [
    "candles = candles.reset_index(drop=True)"
   ]
  },
  {
   "cell_type": "code",
   "execution_count": 8,
   "metadata": {},
   "outputs": [
    {
     "data": {
      "text/html": [
       "<div>\n",
       "<style scoped>\n",
       "    .dataframe tbody tr th:only-of-type {\n",
       "        vertical-align: middle;\n",
       "    }\n",
       "\n",
       "    .dataframe tbody tr th {\n",
       "        vertical-align: top;\n",
       "    }\n",
       "\n",
       "    .dataframe thead th {\n",
       "        text-align: right;\n",
       "    }\n",
       "</style>\n",
       "<table border=\"1\" class=\"dataframe\">\n",
       "  <thead>\n",
       "    <tr style=\"text-align: right;\">\n",
       "      <th></th>\n",
       "      <th>time</th>\n",
       "      <th>open</th>\n",
       "      <th>close</th>\n",
       "      <th>high</th>\n",
       "      <th>low</th>\n",
       "      <th>volume</th>\n",
       "      <th>sma20</th>\n",
       "      <th>macd</th>\n",
       "      <th>obv</th>\n",
       "      <th>bb20_low</th>\n",
       "      <th>bb20_mid</th>\n",
       "      <th>bb20_up</th>\n",
       "    </tr>\n",
       "  </thead>\n",
       "  <tbody>\n",
       "    <tr>\n",
       "      <td>150024</td>\n",
       "      <td>1.555324e+12</td>\n",
       "      <td>0.032359</td>\n",
       "      <td>0.032357</td>\n",
       "      <td>0.032374</td>\n",
       "      <td>0.032357</td>\n",
       "      <td>40.877</td>\n",
       "      <td>0.032397</td>\n",
       "      <td>0.128058</td>\n",
       "      <td>-1016.156</td>\n",
       "      <td>0.032359</td>\n",
       "      <td>0.032397</td>\n",
       "      <td>0.032435</td>\n",
       "    </tr>\n",
       "    <tr>\n",
       "      <td>150025</td>\n",
       "      <td>1.555324e+12</td>\n",
       "      <td>0.032363</td>\n",
       "      <td>0.032331</td>\n",
       "      <td>0.032363</td>\n",
       "      <td>0.032317</td>\n",
       "      <td>109.847</td>\n",
       "      <td>0.032395</td>\n",
       "      <td>0.103772</td>\n",
       "      <td>-1126.003</td>\n",
       "      <td>0.032353</td>\n",
       "      <td>0.032395</td>\n",
       "      <td>0.032436</td>\n",
       "    </tr>\n",
       "    <tr>\n",
       "      <td>150026</td>\n",
       "      <td>1.555324e+12</td>\n",
       "      <td>0.032331</td>\n",
       "      <td>0.032311</td>\n",
       "      <td>0.032331</td>\n",
       "      <td>0.032295</td>\n",
       "      <td>175.491</td>\n",
       "      <td>0.032391</td>\n",
       "      <td>0.081202</td>\n",
       "      <td>-1301.494</td>\n",
       "      <td>0.032342</td>\n",
       "      <td>0.032391</td>\n",
       "      <td>0.032439</td>\n",
       "    </tr>\n",
       "    <tr>\n",
       "      <td>150027</td>\n",
       "      <td>1.555324e+12</td>\n",
       "      <td>0.032312</td>\n",
       "      <td>0.032327</td>\n",
       "      <td>0.032330</td>\n",
       "      <td>0.032299</td>\n",
       "      <td>164.230</td>\n",
       "      <td>0.032385</td>\n",
       "      <td>0.060246</td>\n",
       "      <td>-1137.264</td>\n",
       "      <td>0.032327</td>\n",
       "      <td>0.032385</td>\n",
       "      <td>0.032443</td>\n",
       "    </tr>\n",
       "    <tr>\n",
       "      <td>150028</td>\n",
       "      <td>1.555324e+12</td>\n",
       "      <td>0.032327</td>\n",
       "      <td>0.032336</td>\n",
       "      <td>0.032349</td>\n",
       "      <td>0.032318</td>\n",
       "      <td>52.082</td>\n",
       "      <td>0.032381</td>\n",
       "      <td>0.040804</td>\n",
       "      <td>-1085.182</td>\n",
       "      <td>0.032319</td>\n",
       "      <td>0.032381</td>\n",
       "      <td>0.032442</td>\n",
       "    </tr>\n",
       "  </tbody>\n",
       "</table>\n",
       "</div>"
      ],
      "text/plain": [
       "                time      open     close      high       low   volume  \\\n",
       "150024  1.555324e+12  0.032359  0.032357  0.032374  0.032357   40.877   \n",
       "150025  1.555324e+12  0.032363  0.032331  0.032363  0.032317  109.847   \n",
       "150026  1.555324e+12  0.032331  0.032311  0.032331  0.032295  175.491   \n",
       "150027  1.555324e+12  0.032312  0.032327  0.032330  0.032299  164.230   \n",
       "150028  1.555324e+12  0.032327  0.032336  0.032349  0.032318   52.082   \n",
       "\n",
       "           sma20      macd       obv  bb20_low  bb20_mid   bb20_up  \n",
       "150024  0.032397  0.128058 -1016.156  0.032359  0.032397  0.032435  \n",
       "150025  0.032395  0.103772 -1126.003  0.032353  0.032395  0.032436  \n",
       "150026  0.032391  0.081202 -1301.494  0.032342  0.032391  0.032439  \n",
       "150027  0.032385  0.060246 -1137.264  0.032327  0.032385  0.032443  \n",
       "150028  0.032381  0.040804 -1085.182  0.032319  0.032381  0.032442  "
      ]
     },
     "execution_count": 8,
     "metadata": {},
     "output_type": "execute_result"
    }
   ],
   "source": [
    "candles.head()"
   ]
  },
  {
   "cell_type": "code",
   "execution_count": 7,
   "metadata": {},
   "outputs": [],
   "source": [
    "candles = add_ti(candles)"
   ]
  },
  {
   "cell_type": "code",
   "execution_count": 10,
   "metadata": {},
   "outputs": [],
   "source": [
    "inputs, labels = candles_to_inputs_and_labels(candles, num_rows=30, step=10, return_period=5)"
   ]
  },
  {
   "cell_type": "code",
   "execution_count": null,
   "metadata": {},
   "outputs": [],
   "source": [
    "s = int(len(inputs) * 0.7)\n",
    "train_ds = ChartImageDataset(inputs[:s], labels[:s])\n",
    "valid_ds = ChartImageDataset(inputs[s:], labels[s:])"
   ]
  },
  {
   "cell_type": "code",
   "execution_count": null,
   "metadata": {},
   "outputs": [],
   "source": [
    "train_dl = DataLoader(train_ds, drop_last=True, **params)\n",
    "valid_dl = DataLoader(valid_ds, drop_last=True, **params)"
   ]
  },
  {
   "cell_type": "code",
   "execution_count": null,
   "metadata": {},
   "outputs": [],
   "source": [
    "optim = torch.optim.Adam(model.parameters(), lr)"
   ]
  },
  {
   "cell_type": "code",
   "execution_count": null,
   "metadata": {},
   "outputs": [],
   "source": []
  }
 ],
 "metadata": {
  "kernelspec": {
   "display_name": "Python 3",
   "language": "python",
   "name": "python3"
  },
  "language_info": {
   "codemirror_mode": {
    "name": "ipython",
    "version": 3
   },
   "file_extension": ".py",
   "mimetype": "text/x-python",
   "name": "python",
   "nbconvert_exporter": "python",
   "pygments_lexer": "ipython3",
   "version": "3.7.4"
  }
 },
 "nbformat": 4,
 "nbformat_minor": 2
}
