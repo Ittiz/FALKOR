{
 "cells": [
  {
   "cell_type": "markdown",
   "metadata": {},
   "source": [
    "# Training a tabular fast.ai NN for stock signal generation"
   ]
  },
  {
   "cell_type": "markdown",
   "metadata": {},
   "source": [
    "## on a Technical Indicators and OHCV History"
   ]
  },
  {
   "cell_type": "code",
   "execution_count": 1,
   "metadata": {},
   "outputs": [],
   "source": [
    "from fastai.tabular import *\n",
    "from tqdm import tqdm_notebook as tqdm"
   ]
  },
  {
   "cell_type": "code",
   "execution_count": 2,
   "metadata": {},
   "outputs": [],
   "source": [
    "import pandas as pd\n",
    "from TechnicalIndicators import sma, ema, macd, bollinger_bands, obv"
   ]
  },
  {
   "cell_type": "markdown",
   "metadata": {},
   "source": [
    "### Download backtesting data"
   ]
  },
  {
   "cell_type": "code",
   "execution_count": 3,
   "metadata": {},
   "outputs": [
    {
     "data": {
      "text/html": [
       "<div>\n",
       "<style scoped>\n",
       "    .dataframe tbody tr th:only-of-type {\n",
       "        vertical-align: middle;\n",
       "    }\n",
       "\n",
       "    .dataframe tbody tr th {\n",
       "        vertical-align: top;\n",
       "    }\n",
       "\n",
       "    .dataframe thead th {\n",
       "        text-align: right;\n",
       "    }\n",
       "</style>\n",
       "<table border=\"1\" class=\"dataframe\">\n",
       "  <thead>\n",
       "    <tr style=\"text-align: right;\">\n",
       "      <th></th>\n",
       "      <th>open_time</th>\n",
       "      <th>open</th>\n",
       "      <th>high</th>\n",
       "      <th>low</th>\n",
       "      <th>close</th>\n",
       "      <th>volume</th>\n",
       "      <th>close_time</th>\n",
       "      <th>quote_asset_volume</th>\n",
       "      <th>num_trades</th>\n",
       "      <th>tkbbav</th>\n",
       "      <th>tkqav</th>\n",
       "      <th>ign.</th>\n",
       "    </tr>\n",
       "  </thead>\n",
       "  <tbody>\n",
       "    <tr>\n",
       "      <th>0</th>\n",
       "      <td>1501545600000</td>\n",
       "      <td>0.072459</td>\n",
       "      <td>0.075079</td>\n",
       "      <td>0.072370</td>\n",
       "      <td>0.074589</td>\n",
       "      <td>966.046</td>\n",
       "      <td>1501549199999</td>\n",
       "      <td>71.147970</td>\n",
       "      <td>593</td>\n",
       "      <td>491.626</td>\n",
       "      <td>36.116752</td>\n",
       "      <td>25543.757517</td>\n",
       "    </tr>\n",
       "    <tr>\n",
       "      <th>1</th>\n",
       "      <td>1501549200000</td>\n",
       "      <td>0.074399</td>\n",
       "      <td>0.074514</td>\n",
       "      <td>0.072721</td>\n",
       "      <td>0.073383</td>\n",
       "      <td>506.858</td>\n",
       "      <td>1501552799999</td>\n",
       "      <td>37.242746</td>\n",
       "      <td>527</td>\n",
       "      <td>252.594</td>\n",
       "      <td>18.563750</td>\n",
       "      <td>25590.694846</td>\n",
       "    </tr>\n",
       "    <tr>\n",
       "      <th>2</th>\n",
       "      <td>1501552800000</td>\n",
       "      <td>0.073357</td>\n",
       "      <td>0.073645</td>\n",
       "      <td>0.072588</td>\n",
       "      <td>0.073437</td>\n",
       "      <td>424.002</td>\n",
       "      <td>1501556399999</td>\n",
       "      <td>31.028191</td>\n",
       "      <td>590</td>\n",
       "      <td>187.941</td>\n",
       "      <td>13.754426</td>\n",
       "      <td>25588.672780</td>\n",
       "    </tr>\n",
       "    <tr>\n",
       "      <th>3</th>\n",
       "      <td>1501556400000</td>\n",
       "      <td>0.073579</td>\n",
       "      <td>0.074142</td>\n",
       "      <td>0.073064</td>\n",
       "      <td>0.073869</td>\n",
       "      <td>500.440</td>\n",
       "      <td>1501559999999</td>\n",
       "      <td>36.825663</td>\n",
       "      <td>538</td>\n",
       "      <td>247.589</td>\n",
       "      <td>18.211874</td>\n",
       "      <td>25576.311149</td>\n",
       "    </tr>\n",
       "    <tr>\n",
       "      <th>4</th>\n",
       "      <td>1501560000000</td>\n",
       "      <td>0.073895</td>\n",
       "      <td>0.076981</td>\n",
       "      <td>0.073869</td>\n",
       "      <td>0.075423</td>\n",
       "      <td>1011.387</td>\n",
       "      <td>1501563599999</td>\n",
       "      <td>76.215404</td>\n",
       "      <td>562</td>\n",
       "      <td>569.096</td>\n",
       "      <td>42.873766</td>\n",
       "      <td>25643.886224</td>\n",
       "    </tr>\n",
       "  </tbody>\n",
       "</table>\n",
       "</div>"
      ],
      "text/plain": [
       "       open_time      open      high       low     close    volume  \\\n",
       "0  1501545600000  0.072459  0.075079  0.072370  0.074589   966.046   \n",
       "1  1501549200000  0.074399  0.074514  0.072721  0.073383   506.858   \n",
       "2  1501552800000  0.073357  0.073645  0.072588  0.073437   424.002   \n",
       "3  1501556400000  0.073579  0.074142  0.073064  0.073869   500.440   \n",
       "4  1501560000000  0.073895  0.076981  0.073869  0.075423  1011.387   \n",
       "\n",
       "      close_time  quote_asset_volume  num_trades   tkbbav      tkqav  \\\n",
       "0  1501549199999           71.147970         593  491.626  36.116752   \n",
       "1  1501552799999           37.242746         527  252.594  18.563750   \n",
       "2  1501556399999           31.028191         590  187.941  13.754426   \n",
       "3  1501559999999           36.825663         538  247.589  18.211874   \n",
       "4  1501563599999           76.215404         562  569.096  42.873766   \n",
       "\n",
       "           ign.  \n",
       "0  25543.757517  \n",
       "1  25590.694846  \n",
       "2  25588.672780  \n",
       "3  25576.311149  \n",
       "4  25643.886224  "
      ]
     },
     "execution_count": 3,
     "metadata": {},
     "output_type": "execute_result"
    }
   ],
   "source": [
    "rawdf = pd.read_csv('data_small.csv')\n",
    "rawdf.head()"
   ]
  },
  {
   "cell_type": "code",
   "execution_count": 4,
   "metadata": {},
   "outputs": [
    {
     "name": "stdout",
     "output_type": "stream",
     "text": [
      "(17464, 6)\n"
     ]
    },
    {
     "data": {
      "text/html": [
       "<div>\n",
       "<style scoped>\n",
       "    .dataframe tbody tr th:only-of-type {\n",
       "        vertical-align: middle;\n",
       "    }\n",
       "\n",
       "    .dataframe tbody tr th {\n",
       "        vertical-align: top;\n",
       "    }\n",
       "\n",
       "    .dataframe thead th {\n",
       "        text-align: right;\n",
       "    }\n",
       "</style>\n",
       "<table border=\"1\" class=\"dataframe\">\n",
       "  <thead>\n",
       "    <tr style=\"text-align: right;\">\n",
       "      <th></th>\n",
       "      <th>open_time</th>\n",
       "      <th>open</th>\n",
       "      <th>high</th>\n",
       "      <th>low</th>\n",
       "      <th>close</th>\n",
       "      <th>volume</th>\n",
       "    </tr>\n",
       "  </thead>\n",
       "  <tbody>\n",
       "    <tr>\n",
       "      <th>0</th>\n",
       "      <td>1501545600000</td>\n",
       "      <td>0.072459</td>\n",
       "      <td>0.075079</td>\n",
       "      <td>0.072370</td>\n",
       "      <td>0.074589</td>\n",
       "      <td>966.046</td>\n",
       "    </tr>\n",
       "    <tr>\n",
       "      <th>1</th>\n",
       "      <td>1501549200000</td>\n",
       "      <td>0.074399</td>\n",
       "      <td>0.074514</td>\n",
       "      <td>0.072721</td>\n",
       "      <td>0.073383</td>\n",
       "      <td>506.858</td>\n",
       "    </tr>\n",
       "    <tr>\n",
       "      <th>2</th>\n",
       "      <td>1501552800000</td>\n",
       "      <td>0.073357</td>\n",
       "      <td>0.073645</td>\n",
       "      <td>0.072588</td>\n",
       "      <td>0.073437</td>\n",
       "      <td>424.002</td>\n",
       "    </tr>\n",
       "    <tr>\n",
       "      <th>3</th>\n",
       "      <td>1501556400000</td>\n",
       "      <td>0.073579</td>\n",
       "      <td>0.074142</td>\n",
       "      <td>0.073064</td>\n",
       "      <td>0.073869</td>\n",
       "      <td>500.440</td>\n",
       "    </tr>\n",
       "    <tr>\n",
       "      <th>4</th>\n",
       "      <td>1501560000000</td>\n",
       "      <td>0.073895</td>\n",
       "      <td>0.076981</td>\n",
       "      <td>0.073869</td>\n",
       "      <td>0.075423</td>\n",
       "      <td>1011.387</td>\n",
       "    </tr>\n",
       "  </tbody>\n",
       "</table>\n",
       "</div>"
      ],
      "text/plain": [
       "       open_time      open      high       low     close    volume\n",
       "0  1501545600000  0.072459  0.075079  0.072370  0.074589   966.046\n",
       "1  1501549200000  0.074399  0.074514  0.072721  0.073383   506.858\n",
       "2  1501552800000  0.073357  0.073645  0.072588  0.073437   424.002\n",
       "3  1501556400000  0.073579  0.074142  0.073064  0.073869   500.440\n",
       "4  1501560000000  0.073895  0.076981  0.073869  0.075423  1011.387"
      ]
     },
     "execution_count": 4,
     "metadata": {},
     "output_type": "execute_result"
    }
   ],
   "source": [
    "dataset_df = rawdf[['open_time', 'open', 'high', 'low', 'close', 'volume' ]]\n",
    "print(dataset_df.shape)\n",
    "dataset_df.head()"
   ]
  },
  {
   "cell_type": "markdown",
   "metadata": {},
   "source": [
    "### Add Technical Indicators as features"
   ]
  },
  {
   "cell_type": "code",
   "execution_count": 5,
   "metadata": {},
   "outputs": [],
   "source": [
    "price_df = dataset_df.open\n",
    "volume_df = dataset_df.volume\n",
    "\n",
    "ema10_list = ema(price_df.tolist(), n=10)\n",
    "ema20_list = ema(price_df.tolist(), n=20)\n",
    "ema50_list = ema(price_df.tolist(), n=20)\n",
    "\n",
    "sma10_list = sma(price_df.tolist(), n=20)\n",
    "sma20_list = sma(price_df.tolist(), n=20)\n",
    "sma50_list = sma(price_df.tolist(), n=20)\n",
    "\n",
    "bb10 = bollinger_bands(price_df.tolist(), 10, mult=2)\n",
    "bb10_low = [x[0] for x in bb10]\n",
    "bb10_mid = [x[1] for x in bb10]\n",
    "bb10_up = [x[2] for x in bb10]\n",
    "\n",
    "bb20 = bollinger_bands(price_df.tolist(), 20, mult=2)\n",
    "bb20_low = [x[0] for x in bb20]\n",
    "bb20_mid = [x[1] for x in bb20]\n",
    "bb20_up = [x[2] for x in bb20]\n",
    "\n",
    "macd_list = macd(price_df.tolist())\n",
    "\n",
    "obv_list = obv(volume_df.tolist(), price_df.tolist())"
   ]
  },
  {
   "cell_type": "markdown",
   "metadata": {},
   "source": [
    "### We have indicators for a recent slice of data, so we cut out previous candlesticks"
   ]
  },
  {
   "cell_type": "code",
   "execution_count": 6,
   "metadata": {},
   "outputs": [
    {
     "data": {
      "text/plain": [
       "('macd', 17438)"
      ]
     },
     "execution_count": 6,
     "metadata": {},
     "output_type": "execute_result"
    }
   ],
   "source": [
    "ti_dict = {'ema10': ema10_list, 'ema20': ema20_list, 'ema50': ema50_list, 'sma10': sma10_list,\n",
    "          'sma20': sma20_list, 'sma50': sma50_list, 'macd': macd_list, 'obv': obv_list,\n",
    "          'bb10_low': bb10_low, 'bb10_mid': bb10_mid, 'bb10_up': bb10_up, 'bb20_low': bb20_low,\n",
    "          'bb20_mid': bb20_mid, 'bb20_up': bb20_up}\n",
    "l = ''\n",
    "c = 100 ** 10\n",
    "for label, data in ti_dict.items():\n",
    "    if len(data) < c:\n",
    "        l, c = label, len(data)\n",
    "l, c"
   ]
  },
  {
   "cell_type": "code",
   "execution_count": 7,
   "metadata": {},
   "outputs": [],
   "source": [
    "# First cut down our TI's\n",
    "for label, data in ti_dict.items():\n",
    "    cut_amount = len(data) - len(macd_list)\n",
    "    ti_dict[label] = data[cut_amount:]    "
   ]
  },
  {
   "cell_type": "code",
   "execution_count": 8,
   "metadata": {},
   "outputs": [
    {
     "data": {
      "text/plain": [
       "17438"
      ]
     },
     "execution_count": 8,
     "metadata": {},
     "output_type": "execute_result"
    }
   ],
   "source": [
    "# Next cut down our dataset_df\n",
    "dataset_df = dataset_df.iloc[dataset_df.shape[0]-len(macd_list):]\n",
    "dataset_df.shape[0]"
   ]
  },
  {
   "cell_type": "code",
   "execution_count": 9,
   "metadata": {},
   "outputs": [
    {
     "data": {
      "text/html": [
       "<div>\n",
       "<style scoped>\n",
       "    .dataframe tbody tr th:only-of-type {\n",
       "        vertical-align: middle;\n",
       "    }\n",
       "\n",
       "    .dataframe tbody tr th {\n",
       "        vertical-align: top;\n",
       "    }\n",
       "\n",
       "    .dataframe thead th {\n",
       "        text-align: right;\n",
       "    }\n",
       "</style>\n",
       "<table border=\"1\" class=\"dataframe\">\n",
       "  <thead>\n",
       "    <tr style=\"text-align: right;\">\n",
       "      <th></th>\n",
       "      <th>open_time</th>\n",
       "      <th>open</th>\n",
       "      <th>high</th>\n",
       "      <th>low</th>\n",
       "      <th>close</th>\n",
       "      <th>volume</th>\n",
       "      <th>ema10</th>\n",
       "      <th>ema20</th>\n",
       "      <th>ema50</th>\n",
       "      <th>sma10</th>\n",
       "      <th>sma20</th>\n",
       "      <th>sma50</th>\n",
       "      <th>macd</th>\n",
       "      <th>obv</th>\n",
       "      <th>bb10_low</th>\n",
       "      <th>bb10_mid</th>\n",
       "      <th>bb10_up</th>\n",
       "      <th>bb20_low</th>\n",
       "      <th>bb20_mid</th>\n",
       "      <th>bb20_up</th>\n",
       "    </tr>\n",
       "  </thead>\n",
       "  <tbody>\n",
       "    <tr>\n",
       "      <th>26</th>\n",
       "      <td>1501639200000</td>\n",
       "      <td>0.083030</td>\n",
       "      <td>0.083537</td>\n",
       "      <td>0.082225</td>\n",
       "      <td>0.083236</td>\n",
       "      <td>296.728</td>\n",
       "      <td>0.443623</td>\n",
       "      <td>0.483246</td>\n",
       "      <td>0.483246</td>\n",
       "      <td>0.080470</td>\n",
       "      <td>0.080470</td>\n",
       "      <td>0.080470</td>\n",
       "      <td>0.342720</td>\n",
       "      <td>3009.083</td>\n",
       "      <td>0.082662</td>\n",
       "      <td>0.085992</td>\n",
       "      <td>0.079332</td>\n",
       "      <td>0.080470</td>\n",
       "      <td>0.086044</td>\n",
       "      <td>0.074896</td>\n",
       "    </tr>\n",
       "    <tr>\n",
       "      <th>27</th>\n",
       "      <td>1501642800000</td>\n",
       "      <td>0.083236</td>\n",
       "      <td>0.083276</td>\n",
       "      <td>0.082689</td>\n",
       "      <td>0.083271</td>\n",
       "      <td>396.149</td>\n",
       "      <td>0.446200</td>\n",
       "      <td>0.520459</td>\n",
       "      <td>0.520459</td>\n",
       "      <td>0.080812</td>\n",
       "      <td>0.080812</td>\n",
       "      <td>0.080812</td>\n",
       "      <td>0.277345</td>\n",
       "      <td>3405.232</td>\n",
       "      <td>0.083066</td>\n",
       "      <td>0.085321</td>\n",
       "      <td>0.080811</td>\n",
       "      <td>0.080812</td>\n",
       "      <td>0.086125</td>\n",
       "      <td>0.075499</td>\n",
       "    </tr>\n",
       "    <tr>\n",
       "      <th>28</th>\n",
       "      <td>1501646400000</td>\n",
       "      <td>0.083191</td>\n",
       "      <td>0.083276</td>\n",
       "      <td>0.082163</td>\n",
       "      <td>0.082594</td>\n",
       "      <td>501.075</td>\n",
       "      <td>0.448264</td>\n",
       "      <td>0.554082</td>\n",
       "      <td>0.554082</td>\n",
       "      <td>0.081090</td>\n",
       "      <td>0.081090</td>\n",
       "      <td>0.081090</td>\n",
       "      <td>0.216324</td>\n",
       "      <td>2904.157</td>\n",
       "      <td>0.083321</td>\n",
       "      <td>0.084929</td>\n",
       "      <td>0.081712</td>\n",
       "      <td>0.081090</td>\n",
       "      <td>0.086298</td>\n",
       "      <td>0.075883</td>\n",
       "    </tr>\n",
       "    <tr>\n",
       "      <th>29</th>\n",
       "      <td>1501650000000</td>\n",
       "      <td>0.082453</td>\n",
       "      <td>0.082928</td>\n",
       "      <td>0.082192</td>\n",
       "      <td>0.082425</td>\n",
       "      <td>453.661</td>\n",
       "      <td>0.449215</td>\n",
       "      <td>0.583766</td>\n",
       "      <td>0.583766</td>\n",
       "      <td>0.081353</td>\n",
       "      <td>0.081353</td>\n",
       "      <td>0.081353</td>\n",
       "      <td>0.159415</td>\n",
       "      <td>2450.496</td>\n",
       "      <td>0.083512</td>\n",
       "      <td>0.084398</td>\n",
       "      <td>0.082625</td>\n",
       "      <td>0.081353</td>\n",
       "      <td>0.086427</td>\n",
       "      <td>0.076279</td>\n",
       "    </tr>\n",
       "    <tr>\n",
       "      <th>30</th>\n",
       "      <td>1501653600000</td>\n",
       "      <td>0.082327</td>\n",
       "      <td>0.082941</td>\n",
       "      <td>0.081902</td>\n",
       "      <td>0.082113</td>\n",
       "      <td>484.671</td>\n",
       "      <td>0.449866</td>\n",
       "      <td>0.610496</td>\n",
       "      <td>0.610496</td>\n",
       "      <td>0.081500</td>\n",
       "      <td>0.081500</td>\n",
       "      <td>0.081500</td>\n",
       "      <td>0.106433</td>\n",
       "      <td>1965.825</td>\n",
       "      <td>0.083429</td>\n",
       "      <td>0.084517</td>\n",
       "      <td>0.082341</td>\n",
       "      <td>0.081500</td>\n",
       "      <td>0.086522</td>\n",
       "      <td>0.076478</td>\n",
       "    </tr>\n",
       "  </tbody>\n",
       "</table>\n",
       "</div>"
      ],
      "text/plain": [
       "        open_time      open      high       low     close   volume     ema10  \\\n",
       "26  1501639200000  0.083030  0.083537  0.082225  0.083236  296.728  0.443623   \n",
       "27  1501642800000  0.083236  0.083276  0.082689  0.083271  396.149  0.446200   \n",
       "28  1501646400000  0.083191  0.083276  0.082163  0.082594  501.075  0.448264   \n",
       "29  1501650000000  0.082453  0.082928  0.082192  0.082425  453.661  0.449215   \n",
       "30  1501653600000  0.082327  0.082941  0.081902  0.082113  484.671  0.449866   \n",
       "\n",
       "       ema20     ema50     sma10     sma20     sma50      macd       obv  \\\n",
       "26  0.483246  0.483246  0.080470  0.080470  0.080470  0.342720  3009.083   \n",
       "27  0.520459  0.520459  0.080812  0.080812  0.080812  0.277345  3405.232   \n",
       "28  0.554082  0.554082  0.081090  0.081090  0.081090  0.216324  2904.157   \n",
       "29  0.583766  0.583766  0.081353  0.081353  0.081353  0.159415  2450.496   \n",
       "30  0.610496  0.610496  0.081500  0.081500  0.081500  0.106433  1965.825   \n",
       "\n",
       "    bb10_low  bb10_mid   bb10_up  bb20_low  bb20_mid   bb20_up  \n",
       "26  0.082662  0.085992  0.079332  0.080470  0.086044  0.074896  \n",
       "27  0.083066  0.085321  0.080811  0.080812  0.086125  0.075499  \n",
       "28  0.083321  0.084929  0.081712  0.081090  0.086298  0.075883  \n",
       "29  0.083512  0.084398  0.082625  0.081353  0.086427  0.076279  \n",
       "30  0.083429  0.084517  0.082341  0.081500  0.086522  0.076478  "
      ]
     },
     "execution_count": 9,
     "metadata": {},
     "output_type": "execute_result"
    }
   ],
   "source": [
    "for label, data in ti_dict.items():\n",
    "    dataset_df[label] = data\n",
    "dataset_df.head()"
   ]
  },
  {
   "cell_type": "markdown",
   "metadata": {},
   "source": [
    "### Add previous candle data as features"
   ]
  },
  {
   "cell_type": "code",
   "execution_count": 25,
   "metadata": {},
   "outputs": [
    {
     "data": {
      "application/vnd.jupyter.widget-view+json": {
       "model_id": "07018ba7c8e54311b486070c24df74a9",
       "version_major": 2,
       "version_minor": 0
      },
      "text/plain": [
       "HBox(children=(IntProgress(value=0, max=17438), HTML(value='')))"
      ]
     },
     "metadata": {},
     "output_type": "display_data"
    },
    {
     "data": {
      "application/vnd.jupyter.widget-view+json": {
       "model_id": "809c50960bb648b097ee26d7cf176976",
       "version_major": 2,
       "version_minor": 0
      },
      "text/plain": [
       "HBox(children=(IntProgress(value=0, max=17438), HTML(value='')))"
      ]
     },
     "metadata": {},
     "output_type": "display_data"
    },
    {
     "data": {
      "application/vnd.jupyter.widget-view+json": {
       "model_id": "cf1e91ed81cd4f10865ddf781fc95905",
       "version_major": 2,
       "version_minor": 0
      },
      "text/plain": [
       "HBox(children=(IntProgress(value=0, max=17438), HTML(value='')))"
      ]
     },
     "metadata": {},
     "output_type": "display_data"
    },
    {
     "data": {
      "application/vnd.jupyter.widget-view+json": {
       "model_id": "47c22a0370424cfe963eb6e712ac22a1",
       "version_major": 2,
       "version_minor": 0
      },
      "text/plain": [
       "HBox(children=(IntProgress(value=0, max=17438), HTML(value='')))"
      ]
     },
     "metadata": {},
     "output_type": "display_data"
    },
    {
     "data": {
      "application/vnd.jupyter.widget-view+json": {
       "model_id": "c995bb64a95641db87017016e60ab426",
       "version_major": 2,
       "version_minor": 0
      },
      "text/plain": [
       "HBox(children=(IntProgress(value=0, max=17438), HTML(value='')))"
      ]
     },
     "metadata": {},
     "output_type": "display_data"
    },
    {
     "data": {
      "application/vnd.jupyter.widget-view+json": {
       "model_id": "445585604d044be4ba18a42168e8e04e",
       "version_major": 2,
       "version_minor": 0
      },
      "text/plain": [
       "HBox(children=(IntProgress(value=0, max=17438), HTML(value='')))"
      ]
     },
     "metadata": {},
     "output_type": "display_data"
    },
    {
     "data": {
      "application/vnd.jupyter.widget-view+json": {
       "model_id": "410f7c3c69cf4fdfb536d4cbbb8def59",
       "version_major": 2,
       "version_minor": 0
      },
      "text/plain": [
       "HBox(children=(IntProgress(value=0, max=17438), HTML(value='')))"
      ]
     },
     "metadata": {},
     "output_type": "display_data"
    },
    {
     "data": {
      "application/vnd.jupyter.widget-view+json": {
       "model_id": "1ca60cb207e0455ebbb73c0b59bcc50a",
       "version_major": 2,
       "version_minor": 0
      },
      "text/plain": [
       "HBox(children=(IntProgress(value=0, max=17438), HTML(value='')))"
      ]
     },
     "metadata": {},
     "output_type": "display_data"
    },
    {
     "data": {
      "application/vnd.jupyter.widget-view+json": {
       "model_id": "599ecd5371bf44f5b61b8f003440240b",
       "version_major": 2,
       "version_minor": 0
      },
      "text/plain": [
       "HBox(children=(IntProgress(value=0, max=17438), HTML(value='')))"
      ]
     },
     "metadata": {},
     "output_type": "display_data"
    },
    {
     "data": {
      "application/vnd.jupyter.widget-view+json": {
       "model_id": "d5819146527a4cccbda2c2aa3666cffd",
       "version_major": 2,
       "version_minor": 0
      },
      "text/plain": [
       "HBox(children=(IntProgress(value=0, max=17438), HTML(value='')))"
      ]
     },
     "metadata": {},
     "output_type": "display_data"
    },
    {
     "data": {
      "application/vnd.jupyter.widget-view+json": {
       "model_id": "0b35c2ac1d684bc2a613d01ccc9c49be",
       "version_major": 2,
       "version_minor": 0
      },
      "text/plain": [
       "HBox(children=(IntProgress(value=0, max=17438), HTML(value='')))"
      ]
     },
     "metadata": {},
     "output_type": "display_data"
    },
    {
     "data": {
      "application/vnd.jupyter.widget-view+json": {
       "model_id": "34b1286e8a974f80980dc70a300969c6",
       "version_major": 2,
       "version_minor": 0
      },
      "text/plain": [
       "HBox(children=(IntProgress(value=0, max=17438), HTML(value='')))"
      ]
     },
     "metadata": {},
     "output_type": "display_data"
    },
    {
     "data": {
      "application/vnd.jupyter.widget-view+json": {
       "model_id": "ecd3bfd9d859453c8130ce9de51a1fc3",
       "version_major": 2,
       "version_minor": 0
      },
      "text/plain": [
       "HBox(children=(IntProgress(value=0, max=17438), HTML(value='')))"
      ]
     },
     "metadata": {},
     "output_type": "display_data"
    },
    {
     "data": {
      "application/vnd.jupyter.widget-view+json": {
       "model_id": "e306d3ce0a0a467983df5fe46fbf7379",
       "version_major": 2,
       "version_minor": 0
      },
      "text/plain": [
       "HBox(children=(IntProgress(value=0, max=17438), HTML(value='')))"
      ]
     },
     "metadata": {},
     "output_type": "display_data"
    },
    {
     "data": {
      "application/vnd.jupyter.widget-view+json": {
       "model_id": "73e621c8637b41ff86b19516bf2a9bdc",
       "version_major": 2,
       "version_minor": 0
      },
      "text/plain": [
       "HBox(children=(IntProgress(value=0, max=17438), HTML(value='')))"
      ]
     },
     "metadata": {},
     "output_type": "display_data"
    },
    {
     "data": {
      "application/vnd.jupyter.widget-view+json": {
       "model_id": "db5f56f54c794c8298754fb9db26510e",
       "version_major": 2,
       "version_minor": 0
      },
      "text/plain": [
       "HBox(children=(IntProgress(value=0, max=17438), HTML(value='')))"
      ]
     },
     "metadata": {},
     "output_type": "display_data"
    },
    {
     "data": {
      "application/vnd.jupyter.widget-view+json": {
       "model_id": "caca82fef3344878af11cf138d2020a0",
       "version_major": 2,
       "version_minor": 0
      },
      "text/plain": [
       "HBox(children=(IntProgress(value=0, max=17438), HTML(value='')))"
      ]
     },
     "metadata": {},
     "output_type": "display_data"
    },
    {
     "data": {
      "application/vnd.jupyter.widget-view+json": {
       "model_id": "2c07b1c1c4b24d0cbf6985e8d7cce3e4",
       "version_major": 2,
       "version_minor": 0
      },
      "text/plain": [
       "HBox(children=(IntProgress(value=0, max=17438), HTML(value='')))"
      ]
     },
     "metadata": {},
     "output_type": "display_data"
    },
    {
     "data": {
      "application/vnd.jupyter.widget-view+json": {
       "model_id": "6f4e0faf4dcc4bb887172ed2fd1b3cb3",
       "version_major": 2,
       "version_minor": 0
      },
      "text/plain": [
       "HBox(children=(IntProgress(value=0, max=17438), HTML(value='')))"
      ]
     },
     "metadata": {},
     "output_type": "display_data"
    },
    {
     "data": {
      "application/vnd.jupyter.widget-view+json": {
       "model_id": "4827c5666d434e309b411f2c6f2cd4ed",
       "version_major": 2,
       "version_minor": 0
      },
      "text/plain": [
       "HBox(children=(IntProgress(value=0, max=17438), HTML(value='')))"
      ]
     },
     "metadata": {},
     "output_type": "display_data"
    },
    {
     "data": {
      "application/vnd.jupyter.widget-view+json": {
       "model_id": "7055cfa69dac4122824f77d02ab4b76b",
       "version_major": 2,
       "version_minor": 0
      },
      "text/plain": [
       "HBox(children=(IntProgress(value=0, max=17438), HTML(value='')))"
      ]
     },
     "metadata": {},
     "output_type": "display_data"
    },
    {
     "data": {
      "application/vnd.jupyter.widget-view+json": {
       "model_id": "8bf5f81eb9e94c9b95c15df70aa3f82f",
       "version_major": 2,
       "version_minor": 0
      },
      "text/plain": [
       "HBox(children=(IntProgress(value=0, max=17438), HTML(value='')))"
      ]
     },
     "metadata": {},
     "output_type": "display_data"
    },
    {
     "data": {
      "application/vnd.jupyter.widget-view+json": {
       "model_id": "161bfd2f28024eb0b504e5c22c7b4cf8",
       "version_major": 2,
       "version_minor": 0
      },
      "text/plain": [
       "HBox(children=(IntProgress(value=0, max=17438), HTML(value='')))"
      ]
     },
     "metadata": {},
     "output_type": "display_data"
    },
    {
     "data": {
      "application/vnd.jupyter.widget-view+json": {
       "model_id": "9da912b7642b4b7a84d9ac69e71dc12b",
       "version_major": 2,
       "version_minor": 0
      },
      "text/plain": [
       "HBox(children=(IntProgress(value=0, max=17438), HTML(value='')))"
      ]
     },
     "metadata": {},
     "output_type": "display_data"
    },
    {
     "data": {
      "application/vnd.jupyter.widget-view+json": {
       "model_id": "66e43f4e27db4d9692e6067d20bf0336",
       "version_major": 2,
       "version_minor": 0
      },
      "text/plain": [
       "HBox(children=(IntProgress(value=0, max=17438), HTML(value='')))"
      ]
     },
     "metadata": {},
     "output_type": "display_data"
    },
    {
     "data": {
      "application/vnd.jupyter.widget-view+json": {
       "model_id": "be45ff18218d4b988d5ea30e17525a59",
       "version_major": 2,
       "version_minor": 0
      },
      "text/plain": [
       "HBox(children=(IntProgress(value=0, max=17438), HTML(value='')))"
      ]
     },
     "metadata": {},
     "output_type": "display_data"
    },
    {
     "data": {
      "application/vnd.jupyter.widget-view+json": {
       "model_id": "6314aca4c6814c4197bbf9b58710f79e",
       "version_major": 2,
       "version_minor": 0
      },
      "text/plain": [
       "HBox(children=(IntProgress(value=0, max=17438), HTML(value='')))"
      ]
     },
     "metadata": {},
     "output_type": "display_data"
    },
    {
     "data": {
      "application/vnd.jupyter.widget-view+json": {
       "model_id": "1689b5ef7dc34016a3459b342814bb96",
       "version_major": 2,
       "version_minor": 0
      },
      "text/plain": [
       "HBox(children=(IntProgress(value=0, max=17438), HTML(value='')))"
      ]
     },
     "metadata": {},
     "output_type": "display_data"
    },
    {
     "data": {
      "application/vnd.jupyter.widget-view+json": {
       "model_id": "222480792aee44f18e4ef5c45b3ad2ad",
       "version_major": 2,
       "version_minor": 0
      },
      "text/plain": [
       "HBox(children=(IntProgress(value=0, max=17438), HTML(value='')))"
      ]
     },
     "metadata": {},
     "output_type": "display_data"
    },
    {
     "data": {
      "application/vnd.jupyter.widget-view+json": {
       "model_id": "d6561b4dfab14832a095fab68e78a3e5",
       "version_major": 2,
       "version_minor": 0
      },
      "text/plain": [
       "HBox(children=(IntProgress(value=0, max=17438), HTML(value='')))"
      ]
     },
     "metadata": {},
     "output_type": "display_data"
    }
   ],
   "source": [
    "# Add columns with default values into the DataFrame\n",
    "features = ['prev_high', 'prev2_high', 'prev3_high', 'prev4_high', 'prev5_high', 'prev6_high',\n",
    "            'prev7_high', 'prev8_high', 'prev9_high' ,'prev10_high', 'prev_low', 'prev2_low', \n",
    "            'prev3_low', 'prev4_low', 'prev5_low', 'prev6_low', 'prev7_low', 'prev8_low',\n",
    "            'prev9_low', 'prev10_low', \n",
    "            'prev_open', 'prev2_open', 'prev3_open', 'prev4_open', 'prev5_open', 'prev6_open',\n",
    "            'prev7_open', 'prev8_open', 'prev9_open' ,'prev10_open']\n",
    "\n",
    "for f in features:\n",
    "    dataset_df[f] = 'default'\n",
    "    \n",
    "new_features = []\n",
    "    \n",
    "# Add the features one by one\n",
    "for feature in features:\n",
    "    num = feature[4] # Get the number\n",
    "    if num == '1': num = 10 \n",
    "    if num == '_': num = 1\n",
    "    num = int(num)\n",
    "    \n",
    "    if 'high' in feature:\n",
    "        t = 'high'\n",
    "    elif 'low' in feature:\n",
    "        t = 'low'\n",
    "    elif 'open' in feature:\n",
    "        t = 'open'\n",
    "\n",
    "    temp = []\n",
    "    for i in tqdm(range(dataset_df.shape[0])):\n",
    "        if i >= num:\n",
    "            temp.append(dataset_df.iloc[i-num][t])\n",
    "            \n",
    "    new_features.append(temp)\n",
    "            "
   ]
  },
  {
   "cell_type": "markdown",
   "metadata": {},
   "source": [
    "### Once again cut down our candlesticks, this time for the OPHCV data"
   ]
  },
  {
   "cell_type": "code",
   "execution_count": 26,
   "metadata": {},
   "outputs": [
    {
     "data": {
      "text/plain": [
       "17428"
      ]
     },
     "execution_count": 26,
     "metadata": {},
     "output_type": "execute_result"
    }
   ],
   "source": [
    "x = len(new_features[0])\n",
    "# determine shortest length\n",
    "for feature in new_features:\n",
    "    if len(feature) < x:\n",
    "        x = len(feature)\n",
    "x        "
   ]
  },
  {
   "cell_type": "code",
   "execution_count": 27,
   "metadata": {},
   "outputs": [],
   "source": [
    "# Cut down all datasets\n",
    "for index, feature in enumerate(new_features):\n",
    "    new_features[index] = feature[len(feature)-x:]"
   ]
  },
  {
   "cell_type": "code",
   "execution_count": 31,
   "metadata": {},
   "outputs": [
    {
     "data": {
      "text/plain": [
       "17428"
      ]
     },
     "execution_count": 31,
     "metadata": {},
     "output_type": "execute_result"
    }
   ],
   "source": [
    "# Next cut down our dataset_df\n",
    "dataset_df = dataset_df.iloc[dataset_df.shape[0]-x:]\n",
    "dataset_df.shape[0]"
   ]
  },
  {
   "cell_type": "code",
   "execution_count": 32,
   "metadata": {},
   "outputs": [],
   "source": [
    "# Add the new columns into the dataset\n",
    "for idx, feature in enumerate(features):\n",
    "    dataset_df[feature] = new_features[idx]"
   ]
  },
  {
   "cell_type": "code",
   "execution_count": 39,
   "metadata": {},
   "outputs": [
    {
     "name": "stdout",
     "output_type": "stream",
     "text": [
      "(17428, 50)\n"
     ]
    },
    {
     "data": {
      "text/html": [
       "<div>\n",
       "<style scoped>\n",
       "    .dataframe tbody tr th:only-of-type {\n",
       "        vertical-align: middle;\n",
       "    }\n",
       "\n",
       "    .dataframe tbody tr th {\n",
       "        vertical-align: top;\n",
       "    }\n",
       "\n",
       "    .dataframe thead th {\n",
       "        text-align: right;\n",
       "    }\n",
       "</style>\n",
       "<table border=\"1\" class=\"dataframe\">\n",
       "  <thead>\n",
       "    <tr style=\"text-align: right;\">\n",
       "      <th></th>\n",
       "      <th>open_time</th>\n",
       "      <th>open</th>\n",
       "      <th>high</th>\n",
       "      <th>low</th>\n",
       "      <th>close</th>\n",
       "      <th>volume</th>\n",
       "      <th>ema10</th>\n",
       "      <th>ema20</th>\n",
       "      <th>ema50</th>\n",
       "      <th>sma10</th>\n",
       "      <th>...</th>\n",
       "      <th>prev_open</th>\n",
       "      <th>prev2_open</th>\n",
       "      <th>prev3_open</th>\n",
       "      <th>prev4_open</th>\n",
       "      <th>prev5_open</th>\n",
       "      <th>prev6_open</th>\n",
       "      <th>prev7_open</th>\n",
       "      <th>prev8_open</th>\n",
       "      <th>prev9_open</th>\n",
       "      <th>prev10_open</th>\n",
       "    </tr>\n",
       "  </thead>\n",
       "  <tbody>\n",
       "    <tr>\n",
       "      <th>36</th>\n",
       "      <td>1501675200000</td>\n",
       "      <td>0.080901</td>\n",
       "      <td>0.081020</td>\n",
       "      <td>0.079679</td>\n",
       "      <td>0.079893</td>\n",
       "      <td>622.040</td>\n",
       "      <td>0.449574</td>\n",
       "      <td>0.722661</td>\n",
       "      <td>0.722661</td>\n",
       "      <td>0.082563</td>\n",
       "      <td>...</td>\n",
       "      <td>0.081359</td>\n",
       "      <td>0.081898</td>\n",
       "      <td>0.083004</td>\n",
       "      <td>0.082033</td>\n",
       "      <td>0.082113</td>\n",
       "      <td>0.082327</td>\n",
       "      <td>0.082453</td>\n",
       "      <td>0.083191</td>\n",
       "      <td>0.083236</td>\n",
       "      <td>0.083030</td>\n",
       "    </tr>\n",
       "    <tr>\n",
       "      <th>37</th>\n",
       "      <td>1501678800000</td>\n",
       "      <td>0.079893</td>\n",
       "      <td>0.082663</td>\n",
       "      <td>0.079893</td>\n",
       "      <td>0.082294</td>\n",
       "      <td>645.395</td>\n",
       "      <td>0.447726</td>\n",
       "      <td>0.733729</td>\n",
       "      <td>0.733729</td>\n",
       "      <td>0.082659</td>\n",
       "      <td>...</td>\n",
       "      <td>0.080901</td>\n",
       "      <td>0.081359</td>\n",
       "      <td>0.081898</td>\n",
       "      <td>0.083004</td>\n",
       "      <td>0.082033</td>\n",
       "      <td>0.082113</td>\n",
       "      <td>0.082327</td>\n",
       "      <td>0.082453</td>\n",
       "      <td>0.083191</td>\n",
       "      <td>0.083236</td>\n",
       "    </tr>\n",
       "    <tr>\n",
       "      <th>38</th>\n",
       "      <td>1501682400000</td>\n",
       "      <td>0.082294</td>\n",
       "      <td>0.082563</td>\n",
       "      <td>0.080099</td>\n",
       "      <td>0.080960</td>\n",
       "      <td>423.548</td>\n",
       "      <td>0.448616</td>\n",
       "      <td>0.746144</td>\n",
       "      <td>0.746144</td>\n",
       "      <td>0.082619</td>\n",
       "      <td>...</td>\n",
       "      <td>0.079893</td>\n",
       "      <td>0.080901</td>\n",
       "      <td>0.081359</td>\n",
       "      <td>0.081898</td>\n",
       "      <td>0.083004</td>\n",
       "      <td>0.082033</td>\n",
       "      <td>0.082113</td>\n",
       "      <td>0.082327</td>\n",
       "      <td>0.082453</td>\n",
       "      <td>0.083191</td>\n",
       "    </tr>\n",
       "    <tr>\n",
       "      <th>39</th>\n",
       "      <td>1501686000000</td>\n",
       "      <td>0.080988</td>\n",
       "      <td>0.081093</td>\n",
       "      <td>0.080187</td>\n",
       "      <td>0.080383</td>\n",
       "      <td>575.297</td>\n",
       "      <td>0.448037</td>\n",
       "      <td>0.756071</td>\n",
       "      <td>0.756071</td>\n",
       "      <td>0.082670</td>\n",
       "      <td>...</td>\n",
       "      <td>0.082294</td>\n",
       "      <td>0.079893</td>\n",
       "      <td>0.080901</td>\n",
       "      <td>0.081359</td>\n",
       "      <td>0.081898</td>\n",
       "      <td>0.083004</td>\n",
       "      <td>0.082033</td>\n",
       "      <td>0.082113</td>\n",
       "      <td>0.082327</td>\n",
       "      <td>0.082453</td>\n",
       "    </tr>\n",
       "    <tr>\n",
       "      <th>40</th>\n",
       "      <td>1501689600000</td>\n",
       "      <td>0.080383</td>\n",
       "      <td>0.081341</td>\n",
       "      <td>0.080244</td>\n",
       "      <td>0.081341</td>\n",
       "      <td>492.436</td>\n",
       "      <td>0.446959</td>\n",
       "      <td>0.764447</td>\n",
       "      <td>0.764447</td>\n",
       "      <td>0.082555</td>\n",
       "      <td>...</td>\n",
       "      <td>0.080988</td>\n",
       "      <td>0.082294</td>\n",
       "      <td>0.079893</td>\n",
       "      <td>0.080901</td>\n",
       "      <td>0.081359</td>\n",
       "      <td>0.081898</td>\n",
       "      <td>0.083004</td>\n",
       "      <td>0.082033</td>\n",
       "      <td>0.082113</td>\n",
       "      <td>0.082327</td>\n",
       "    </tr>\n",
       "  </tbody>\n",
       "</table>\n",
       "<p>5 rows × 50 columns</p>\n",
       "</div>"
      ],
      "text/plain": [
       "        open_time      open      high       low     close   volume     ema10  \\\n",
       "36  1501675200000  0.080901  0.081020  0.079679  0.079893  622.040  0.449574   \n",
       "37  1501678800000  0.079893  0.082663  0.079893  0.082294  645.395  0.447726   \n",
       "38  1501682400000  0.082294  0.082563  0.080099  0.080960  423.548  0.448616   \n",
       "39  1501686000000  0.080988  0.081093  0.080187  0.080383  575.297  0.448037   \n",
       "40  1501689600000  0.080383  0.081341  0.080244  0.081341  492.436  0.446959   \n",
       "\n",
       "       ema20     ema50     sma10  ...  prev_open  prev2_open  prev3_open  \\\n",
       "36  0.722661  0.722661  0.082563  ...   0.081359    0.081898    0.083004   \n",
       "37  0.733729  0.733729  0.082659  ...   0.080901    0.081359    0.081898   \n",
       "38  0.746144  0.746144  0.082619  ...   0.079893    0.080901    0.081359   \n",
       "39  0.756071  0.756071  0.082670  ...   0.082294    0.079893    0.080901   \n",
       "40  0.764447  0.764447  0.082555  ...   0.080988    0.082294    0.079893   \n",
       "\n",
       "    prev4_open  prev5_open  prev6_open  prev7_open  prev8_open  prev9_open  \\\n",
       "36    0.082033    0.082113    0.082327    0.082453    0.083191    0.083236   \n",
       "37    0.083004    0.082033    0.082113    0.082327    0.082453    0.083191   \n",
       "38    0.081898    0.083004    0.082033    0.082113    0.082327    0.082453   \n",
       "39    0.081359    0.081898    0.083004    0.082033    0.082113    0.082327   \n",
       "40    0.080901    0.081359    0.081898    0.083004    0.082033    0.082113   \n",
       "\n",
       "    prev10_open  \n",
       "36     0.083030  \n",
       "37     0.083236  \n",
       "38     0.083191  \n",
       "39     0.082453  \n",
       "40     0.082327  \n",
       "\n",
       "[5 rows x 50 columns]"
      ]
     },
     "execution_count": 39,
     "metadata": {},
     "output_type": "execute_result"
    }
   ],
   "source": [
    "print(dataset_df.shape)\n",
    "dataset_df.to_csv('training_data.csv')\n",
    "\n",
    "dataset_df.head()"
   ]
  },
  {
   "cell_type": "markdown",
   "metadata": {},
   "source": [
    "### Add our dependant variable - the trading signal"
   ]
  },
  {
   "cell_type": "code",
   "execution_count": null,
   "metadata": {},
   "outputs": [],
   "source": []
  },
  {
   "cell_type": "markdown",
   "metadata": {},
   "source": [
    "### Train the model"
   ]
  },
  {
   "cell_type": "code",
   "execution_count": 37,
   "metadata": {},
   "outputs": [
    {
     "data": {
      "text/plain": [
       "range(12199, 17428)"
      ]
     },
     "execution_count": 37,
     "metadata": {},
     "output_type": "execute_result"
    }
   ],
   "source": [
    "procs = [FillMissing, Categorify, Normalize]\n",
    "valid_idx = range(int(0.7 * dataset_df.shape[0]), len(dataset_df))\n",
    "valid_idx"
   ]
  },
  {
   "cell_type": "code",
   "execution_count": null,
   "metadata": {},
   "outputs": [],
   "source": [
    "dep_var = ''"
   ]
  },
  {
   "cell_type": "code",
   "execution_count": null,
   "metadata": {},
   "outputs": [],
   "source": []
  },
  {
   "cell_type": "code",
   "execution_count": null,
   "metadata": {},
   "outputs": [],
   "source": []
  },
  {
   "cell_type": "code",
   "execution_count": null,
   "metadata": {},
   "outputs": [],
   "source": []
  },
  {
   "cell_type": "code",
   "execution_count": null,
   "metadata": {},
   "outputs": [],
   "source": []
  },
  {
   "cell_type": "code",
   "execution_count": null,
   "metadata": {},
   "outputs": [],
   "source": []
  },
  {
   "cell_type": "code",
   "execution_count": null,
   "metadata": {},
   "outputs": [],
   "source": []
  },
  {
   "cell_type": "code",
   "execution_count": null,
   "metadata": {},
   "outputs": [],
   "source": []
  },
  {
   "cell_type": "code",
   "execution_count": null,
   "metadata": {},
   "outputs": [],
   "source": []
  },
  {
   "cell_type": "code",
   "execution_count": null,
   "metadata": {},
   "outputs": [],
   "source": []
  },
  {
   "cell_type": "code",
   "execution_count": null,
   "metadata": {},
   "outputs": [],
   "source": []
  },
  {
   "cell_type": "code",
   "execution_count": null,
   "metadata": {},
   "outputs": [],
   "source": []
  },
  {
   "cell_type": "code",
   "execution_count": null,
   "metadata": {},
   "outputs": [],
   "source": []
  },
  {
   "cell_type": "code",
   "execution_count": null,
   "metadata": {},
   "outputs": [],
   "source": []
  },
  {
   "cell_type": "code",
   "execution_count": null,
   "metadata": {},
   "outputs": [],
   "source": []
  }
 ],
 "metadata": {
  "kernelspec": {
   "display_name": "Python 3",
   "language": "python",
   "name": "python3"
  },
  "language_info": {
   "codemirror_mode": {
    "name": "ipython",
    "version": 3
   },
   "file_extension": ".py",
   "mimetype": "text/x-python",
   "name": "python",
   "nbconvert_exporter": "python",
   "pygments_lexer": "ipython3",
   "version": "3.7.3"
  }
 },
 "nbformat": 4,
 "nbformat_minor": 2
}
