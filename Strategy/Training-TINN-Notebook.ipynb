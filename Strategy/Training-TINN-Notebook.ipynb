{
 "cells": [
  {
   "cell_type": "code",
   "execution_count": 17,
   "metadata": {},
   "outputs": [],
   "source": [
    "from fastai.tabular import *"
   ]
  },
  {
   "cell_type": "code",
   "execution_count": 30,
   "metadata": {},
   "outputs": [],
   "source": [
    "import pandas as pd\n",
    "from TechnicalIndicators import sma, ema, macd, bollinger_bands, obv"
   ]
  },
  {
   "cell_type": "markdown",
   "metadata": {},
   "source": [
    "### Download backtesting data"
   ]
  },
  {
   "cell_type": "code",
   "execution_count": 31,
   "metadata": {},
   "outputs": [
    {
     "data": {
      "text/html": [
       "<div>\n",
       "<style scoped>\n",
       "    .dataframe tbody tr th:only-of-type {\n",
       "        vertical-align: middle;\n",
       "    }\n",
       "\n",
       "    .dataframe tbody tr th {\n",
       "        vertical-align: top;\n",
       "    }\n",
       "\n",
       "    .dataframe thead th {\n",
       "        text-align: right;\n",
       "    }\n",
       "</style>\n",
       "<table border=\"1\" class=\"dataframe\">\n",
       "  <thead>\n",
       "    <tr style=\"text-align: right;\">\n",
       "      <th></th>\n",
       "      <th>open_time</th>\n",
       "      <th>open</th>\n",
       "      <th>high</th>\n",
       "      <th>low</th>\n",
       "      <th>close</th>\n",
       "      <th>volume</th>\n",
       "      <th>close_time</th>\n",
       "      <th>quote_asset_volume</th>\n",
       "      <th>num_trades</th>\n",
       "      <th>tkbbav</th>\n",
       "      <th>tkqav</th>\n",
       "      <th>ign.</th>\n",
       "    </tr>\n",
       "  </thead>\n",
       "  <tbody>\n",
       "    <tr>\n",
       "      <th>0</th>\n",
       "      <td>1501545600000</td>\n",
       "      <td>0.072459</td>\n",
       "      <td>0.073085</td>\n",
       "      <td>0.072370</td>\n",
       "      <td>0.073072</td>\n",
       "      <td>365.984</td>\n",
       "      <td>1501546499999</td>\n",
       "      <td>26.593262</td>\n",
       "      <td>165</td>\n",
       "      <td>226.308</td>\n",
       "      <td>16.430991</td>\n",
       "      <td>25543.757517</td>\n",
       "    </tr>\n",
       "    <tr>\n",
       "      <th>1</th>\n",
       "      <td>1501546500000</td>\n",
       "      <td>0.073303</td>\n",
       "      <td>0.075079</td>\n",
       "      <td>0.073045</td>\n",
       "      <td>0.075079</td>\n",
       "      <td>323.176</td>\n",
       "      <td>1501547399999</td>\n",
       "      <td>23.931024</td>\n",
       "      <td>151</td>\n",
       "      <td>134.156</td>\n",
       "      <td>9.912874</td>\n",
       "      <td>25543.757517</td>\n",
       "    </tr>\n",
       "    <tr>\n",
       "      <th>2</th>\n",
       "      <td>1501547400000</td>\n",
       "      <td>0.074823</td>\n",
       "      <td>0.075055</td>\n",
       "      <td>0.073831</td>\n",
       "      <td>0.074005</td>\n",
       "      <td>199.679</td>\n",
       "      <td>1501548299999</td>\n",
       "      <td>14.880624</td>\n",
       "      <td>140</td>\n",
       "      <td>93.437</td>\n",
       "      <td>6.967521</td>\n",
       "      <td>25543.757517</td>\n",
       "    </tr>\n",
       "    <tr>\n",
       "      <th>3</th>\n",
       "      <td>1501548300000</td>\n",
       "      <td>0.074080</td>\n",
       "      <td>0.074589</td>\n",
       "      <td>0.074061</td>\n",
       "      <td>0.074589</td>\n",
       "      <td>77.207</td>\n",
       "      <td>1501549199999</td>\n",
       "      <td>5.743060</td>\n",
       "      <td>137</td>\n",
       "      <td>37.725</td>\n",
       "      <td>2.805365</td>\n",
       "      <td>25543.757517</td>\n",
       "    </tr>\n",
       "    <tr>\n",
       "      <th>4</th>\n",
       "      <td>1501549200000</td>\n",
       "      <td>0.074399</td>\n",
       "      <td>0.074514</td>\n",
       "      <td>0.073313</td>\n",
       "      <td>0.073313</td>\n",
       "      <td>147.532</td>\n",
       "      <td>1501550099999</td>\n",
       "      <td>10.892043</td>\n",
       "      <td>153</td>\n",
       "      <td>61.335</td>\n",
       "      <td>4.530950</td>\n",
       "      <td>25549.280170</td>\n",
       "    </tr>\n",
       "  </tbody>\n",
       "</table>\n",
       "</div>"
      ],
      "text/plain": [
       "       open_time      open      high       low     close   volume  \\\n",
       "0  1501545600000  0.072459  0.073085  0.072370  0.073072  365.984   \n",
       "1  1501546500000  0.073303  0.075079  0.073045  0.075079  323.176   \n",
       "2  1501547400000  0.074823  0.075055  0.073831  0.074005  199.679   \n",
       "3  1501548300000  0.074080  0.074589  0.074061  0.074589   77.207   \n",
       "4  1501549200000  0.074399  0.074514  0.073313  0.073313  147.532   \n",
       "\n",
       "      close_time  quote_asset_volume  num_trades   tkbbav      tkqav  \\\n",
       "0  1501546499999           26.593262         165  226.308  16.430991   \n",
       "1  1501547399999           23.931024         151  134.156   9.912874   \n",
       "2  1501548299999           14.880624         140   93.437   6.967521   \n",
       "3  1501549199999            5.743060         137   37.725   2.805365   \n",
       "4  1501550099999           10.892043         153   61.335   4.530950   \n",
       "\n",
       "           ign.  \n",
       "0  25543.757517  \n",
       "1  25543.757517  \n",
       "2  25543.757517  \n",
       "3  25543.757517  \n",
       "4  25549.280170  "
      ]
     },
     "execution_count": 31,
     "metadata": {},
     "output_type": "execute_result"
    }
   ],
   "source": [
    "rawdf = pd.read_csv('data.csv')\n",
    "rawdf.head()"
   ]
  },
  {
   "cell_type": "code",
   "execution_count": 32,
   "metadata": {},
   "outputs": [
    {
     "data": {
      "text/html": [
       "<div>\n",
       "<style scoped>\n",
       "    .dataframe tbody tr th:only-of-type {\n",
       "        vertical-align: middle;\n",
       "    }\n",
       "\n",
       "    .dataframe tbody tr th {\n",
       "        vertical-align: top;\n",
       "    }\n",
       "\n",
       "    .dataframe thead th {\n",
       "        text-align: right;\n",
       "    }\n",
       "</style>\n",
       "<table border=\"1\" class=\"dataframe\">\n",
       "  <thead>\n",
       "    <tr style=\"text-align: right;\">\n",
       "      <th></th>\n",
       "      <th>open_time</th>\n",
       "      <th>open</th>\n",
       "      <th>high</th>\n",
       "      <th>low</th>\n",
       "      <th>close</th>\n",
       "      <th>volume</th>\n",
       "    </tr>\n",
       "  </thead>\n",
       "  <tbody>\n",
       "    <tr>\n",
       "      <th>0</th>\n",
       "      <td>1501545600000</td>\n",
       "      <td>0.072459</td>\n",
       "      <td>0.073085</td>\n",
       "      <td>0.072370</td>\n",
       "      <td>0.073072</td>\n",
       "      <td>365.984</td>\n",
       "    </tr>\n",
       "    <tr>\n",
       "      <th>1</th>\n",
       "      <td>1501546500000</td>\n",
       "      <td>0.073303</td>\n",
       "      <td>0.075079</td>\n",
       "      <td>0.073045</td>\n",
       "      <td>0.075079</td>\n",
       "      <td>323.176</td>\n",
       "    </tr>\n",
       "    <tr>\n",
       "      <th>2</th>\n",
       "      <td>1501547400000</td>\n",
       "      <td>0.074823</td>\n",
       "      <td>0.075055</td>\n",
       "      <td>0.073831</td>\n",
       "      <td>0.074005</td>\n",
       "      <td>199.679</td>\n",
       "    </tr>\n",
       "    <tr>\n",
       "      <th>3</th>\n",
       "      <td>1501548300000</td>\n",
       "      <td>0.074080</td>\n",
       "      <td>0.074589</td>\n",
       "      <td>0.074061</td>\n",
       "      <td>0.074589</td>\n",
       "      <td>77.207</td>\n",
       "    </tr>\n",
       "    <tr>\n",
       "      <th>4</th>\n",
       "      <td>1501549200000</td>\n",
       "      <td>0.074399</td>\n",
       "      <td>0.074514</td>\n",
       "      <td>0.073313</td>\n",
       "      <td>0.073313</td>\n",
       "      <td>147.532</td>\n",
       "    </tr>\n",
       "  </tbody>\n",
       "</table>\n",
       "</div>"
      ],
      "text/plain": [
       "       open_time      open      high       low     close   volume\n",
       "0  1501545600000  0.072459  0.073085  0.072370  0.073072  365.984\n",
       "1  1501546500000  0.073303  0.075079  0.073045  0.075079  323.176\n",
       "2  1501547400000  0.074823  0.075055  0.073831  0.074005  199.679\n",
       "3  1501548300000  0.074080  0.074589  0.074061  0.074589   77.207\n",
       "4  1501549200000  0.074399  0.074514  0.073313  0.073313  147.532"
      ]
     },
     "execution_count": 32,
     "metadata": {},
     "output_type": "execute_result"
    }
   ],
   "source": [
    "dataset_df = rawdf[['open_time', 'open', 'high', 'low', 'close', 'volume' ]]\n",
    "dataset_df.head()"
   ]
  },
  {
   "cell_type": "markdown",
   "metadata": {},
   "source": [
    "### Add Technical Indicators as features"
   ]
  },
  {
   "cell_type": "code",
   "execution_count": 33,
   "metadata": {},
   "outputs": [
    {
     "ename": "TypeError",
     "evalue": "ema() missing 1 required positional argument: 'price_list'",
     "output_type": "error",
     "traceback": [
      "\u001b[0;31m---------------------------------------------------------------------------\u001b[0m",
      "\u001b[0;31mTypeError\u001b[0m                                 Traceback (most recent call last)",
      "\u001b[0;32m<ipython-input-33-7ba880368be3>\u001b[0m in \u001b[0;36m<module>\u001b[0;34m\u001b[0m\n\u001b[1;32m      2\u001b[0m \u001b[0mvolume_df\u001b[0m \u001b[0;34m=\u001b[0m \u001b[0mdataset_df\u001b[0m\u001b[0;34m.\u001b[0m\u001b[0mvolume\u001b[0m\u001b[0;34m\u001b[0m\u001b[0;34m\u001b[0m\u001b[0m\n\u001b[1;32m      3\u001b[0m \u001b[0;34m\u001b[0m\u001b[0m\n\u001b[0;32m----> 4\u001b[0;31m \u001b[0mema10_list\u001b[0m \u001b[0;34m=\u001b[0m \u001b[0mema\u001b[0m\u001b[0;34m(\u001b[0m\u001b[0mprice_df\u001b[0m\u001b[0;34m.\u001b[0m\u001b[0mtolist\u001b[0m\u001b[0;34m(\u001b[0m\u001b[0;34m)\u001b[0m\u001b[0;34m,\u001b[0m \u001b[0mn\u001b[0m\u001b[0;34m=\u001b[0m\u001b[0;36m10\u001b[0m\u001b[0;34m)\u001b[0m\u001b[0;34m\u001b[0m\u001b[0;34m\u001b[0m\u001b[0m\n\u001b[0m\u001b[1;32m      5\u001b[0m \u001b[0mema20_list\u001b[0m \u001b[0;34m=\u001b[0m \u001b[0mema\u001b[0m\u001b[0;34m(\u001b[0m\u001b[0mprice_df\u001b[0m\u001b[0;34m.\u001b[0m\u001b[0mtolist\u001b[0m\u001b[0;34m(\u001b[0m\u001b[0;34m)\u001b[0m\u001b[0;34m,\u001b[0m \u001b[0mn\u001b[0m\u001b[0;34m=\u001b[0m\u001b[0;36m20\u001b[0m\u001b[0;34m)\u001b[0m\u001b[0;34m\u001b[0m\u001b[0;34m\u001b[0m\u001b[0m\n\u001b[1;32m      6\u001b[0m \u001b[0mema50_list\u001b[0m \u001b[0;34m=\u001b[0m \u001b[0mema\u001b[0m\u001b[0;34m(\u001b[0m\u001b[0mprice_df\u001b[0m\u001b[0;34m.\u001b[0m\u001b[0mtolist\u001b[0m\u001b[0;34m(\u001b[0m\u001b[0;34m)\u001b[0m\u001b[0;34m,\u001b[0m \u001b[0mn\u001b[0m\u001b[0;34m=\u001b[0m\u001b[0;36m20\u001b[0m\u001b[0;34m)\u001b[0m\u001b[0;34m\u001b[0m\u001b[0;34m\u001b[0m\u001b[0m\n",
      "\u001b[0;31mTypeError\u001b[0m: ema() missing 1 required positional argument: 'price_list'"
     ]
    }
   ],
   "source": [
    "price_df = dataset_df.open\n",
    "volume_df = dataset_df.volume\n",
    "\n",
    "ema10_list = ema(price_df.tolist(), n=10)\n",
    "ema20_list = ema(price_df.tolist(), n=20)\n",
    "ema50_list = ema(price_df.tolist(), n=20)\n",
    "\n",
    "sma10_list = sma(price_df.tolist(), n=20)\n",
    "sma20_list = sma(price_df.tolist(), n=20)\n",
    "sma50_list = sma(price_df.tolist(), n=20)\n",
    "\n",
    "bb10_list = bollinger_bands(price_list.tolist(), 10, mult=2)\n",
    "bb20_list = bollinger_bands(price_list.tolist(), 20, mult=2)\n",
    "\n",
    "macd_list = macd(price_df.tolist())\n",
    "\n",
    "obv_list = obv(volume_df.tolist(), price_df.tolist())"
   ]
  },
  {
   "cell_type": "code",
   "execution_count": null,
   "metadata": {},
   "outputs": [],
   "source": []
  },
  {
   "cell_type": "code",
   "execution_count": null,
   "metadata": {},
   "outputs": [],
   "source": []
  },
  {
   "cell_type": "markdown",
   "metadata": {},
   "source": [
    "### Add previous candle data as features"
   ]
  },
  {
   "cell_type": "code",
   "execution_count": null,
   "metadata": {},
   "outputs": [],
   "source": []
  },
  {
   "cell_type": "code",
   "execution_count": null,
   "metadata": {},
   "outputs": [],
   "source": [
    "procs = [FillMissing, Categorify, Normalize]\n",
    "valid_idx = range(len(data_df) - SPLIT_NUM, len(data_df))"
   ]
  }
 ],
 "metadata": {
  "kernelspec": {
   "display_name": "Python 3",
   "language": "python",
   "name": "python3"
  },
  "language_info": {
   "codemirror_mode": {
    "name": "ipython",
    "version": 3
   },
   "file_extension": ".py",
   "mimetype": "text/x-python",
   "name": "python",
   "nbconvert_exporter": "python",
   "pygments_lexer": "ipython3",
   "version": "3.7.3"
  }
 },
 "nbformat": 4,
 "nbformat_minor": 2
}
